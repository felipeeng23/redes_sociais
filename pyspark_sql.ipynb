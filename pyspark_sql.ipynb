{
  "nbformat": 4,
  "nbformat_minor": 0,
  "metadata": {
    "colab": {
      "provenance": [],
      "authorship_tag": "ABX9TyMqA936QfX5erj6WK8JSDVf",
      "include_colab_link": true
    },
    "kernelspec": {
      "name": "python3",
      "display_name": "Python 3"
    },
    "language_info": {
      "name": "python"
    }
  },
  "cells": [
    {
      "cell_type": "markdown",
      "metadata": {
        "id": "view-in-github",
        "colab_type": "text"
      },
      "source": [
        "<a href=\"https://colab.research.google.com/github/felipeeng23/redes_sociais/blob/main/atividade_01_04_2025.ipynb\" target=\"_parent\"><img src=\"https://colab.research.google.com/assets/colab-badge.svg\" alt=\"Open In Colab\"/></a>"
      ]
    },
    {
      "cell_type": "code",
      "execution_count": 1,
      "metadata": {
        "id": "Sok-TIuBzTtU"
      },
      "outputs": [],
      "source": [
        "# Importação da biblioteca pandas\n",
        "import pandas as pd"
      ]
    },
    {
      "cell_type": "code",
      "source": [
        "# Instalação dos requisitos para o PySpark\n",
        "!apt-get install openjdk-8-jdk-headless -qq > /dev/null #Instala o OpenJDK 8 (necessário para o Spark rodar no ambiente). A opção -qq reduz a saída do comando, e > /dev/null silencia os logs.\n",
        "!wget -q http://archive.apache.org/dist/spark/spark-3.1.1/spark-3.1.1-bin-hadoop3.2.tgz #Baixa a versão 3.1.1 do Apache Spark com suporte ao Hadoop 3.2 do repositório oficial.\n",
        "!tar xf spark-3.1.1-bin-hadoop3.2.tgz #Descompacta o arquivo .tgz para acesso aos binários do Spark.\n",
        "!pip install -q findspark #findspark é uma biblioteca que facilita a inicialização do Spark em ambientes como o Google Colab."
      ],
      "metadata": {
        "id": "OrOQSsiszgWs"
      },
      "execution_count": 2,
      "outputs": []
    },
    {
      "cell_type": "code",
      "source": [
        "# Importa o módulo 'os' para interagir com variáveis de ambiente do sistema operacional\n",
        "import os\n",
        "\n",
        "# Define a variável de ambiente JAVA_HOME, indicando o caminho para o Java 8\n",
        "# O Spark precisa do Java para ser executado, e aqui especificamos onde ele está instalado\n",
        "os.environ[\"JAVA_HOME\"] = \"/usr/lib/jvm/java-8-openjdk-amd64\"\n",
        "\n",
        "# Define a variável de ambiente SPARK_HOME, indicando o caminho de instalação do Spark\n",
        "# Isso é necessário para que o Python saiba onde encontrar os binários e bibliotecas do Spark\n",
        "os.environ[\"SPARK_HOME\"] = \"/content/spark-3.1.1-bin-hadoop3.2\"\n",
        "\n",
        "# Importa a biblioteca 'findspark', que ajuda a localizar e configurar o Spark no ambiente Python\n",
        "import findspark\n",
        "\n",
        "# Inicializa o findspark, permitindo que possamos importar e utilizar o PySpark no código\n",
        "findspark.init()"
      ],
      "metadata": {
        "id": "ZelpPL7-zxxI"
      },
      "execution_count": 3,
      "outputs": []
    },
    {
      "cell_type": "code",
      "source": [
        "# Importa a classe SparkSession do módulo pyspark.sql\n",
        "# SparkSession é o ponto de entrada principal para trabalhar com DataFrames no PySpark\n",
        "from pyspark.sql import SparkSession\n",
        "\n",
        "# Inicializar a SparkSession com suporte ao Hive\n",
        "spark = SparkSession.builder \\\n",
        "    .appName(\"Spark with Hive on Colab\") \\\n",
        "    .config(\"spark.sql.catalogImplementation\", \"hive\") \\\n",
        "    .config(\"spark.sql.warehouse.dir\", \"/content/spark-warehouse\") \\\n",
        "    .config(\"hive.metastore.warehouse.dir\", \"/content/spark-warehouse\") \\\n",
        "    .enableHiveSupport() \\\n",
        "    .getOrCreate()\n",
        "# Define o nome da aplicação Spark (aparece nos logs)\n",
        "# Configura o Spark para usar o catálogo do Hive\n",
        "# Define o diretório do warehouse para o Hive\n",
        "# Criar diretório para o warehouse\n",
        "# Habilita o suporte ao Hive, permitindo consultas SQL compatíveis com Hive\n",
        "# Cria a SparkSession ou reutiliza uma existente\n",
        "# Cria o diretório para armazenar os metadados e tabelas gerenciadas pelo Hive\n",
        "!mkdir -p /content/spark-warehouse\n",
        "\n",
        "'''\n",
        " Por que usar o Hive com Spark?\n",
        "\n",
        "Permite realizar consultas SQL complexas sobre grandes volumes de dados.\n",
        "Facilita o gerenciamento de tabelas persistentes no Spark SQL.\n",
        "Pode armazenar os resultados de consultas em um formato estruturado (como Parquet ou ORC).\n",
        "\n",
        "'''"
      ],
      "metadata": {
        "colab": {
          "base_uri": "https://localhost:8080/",
          "height": 53
        },
        "id": "1lP9tb0-z2-g",
        "outputId": "d053f0b7-c381-4f89-9675-df69c5142e12"
      },
      "execution_count": 4,
      "outputs": [
        {
          "output_type": "execute_result",
          "data": {
            "text/plain": [
              "'\\n Por que usar o Hive com Spark?\\n\\nPermite realizar consultas SQL complexas sobre grandes volumes de dados.\\nFacilita o gerenciamento de tabelas persistentes no Spark SQL.\\nPode armazenar os resultados de consultas em um formato estruturado (como Parquet ou ORC).\\n\\n'"
            ],
            "application/vnd.google.colaboratory.intrinsic+json": {
              "type": "string"
            }
          },
          "metadata": {},
          "execution_count": 4
        }
      ]
    },
    {
      "cell_type": "code",
      "source": [
        "# Verifica o SparkContext\n",
        "print(spark)\n",
        "\n",
        "# Exibe a Spark version\n",
        "print(spark.version)"
      ],
      "metadata": {
        "colab": {
          "base_uri": "https://localhost:8080/"
        },
        "id": "et8jhwfwz8Ex",
        "outputId": "2b702cd3-c53b-444d-e6c4-cce6d8b4083a"
      },
      "execution_count": 5,
      "outputs": [
        {
          "output_type": "stream",
          "name": "stdout",
          "text": [
            "<pyspark.sql.session.SparkSession object at 0x7c0aa9d23950>\n",
            "3.1.1\n"
          ]
        }
      ]
    },
    {
      "cell_type": "code",
      "source": [
        "spark.sql('''\n",
        "CREATE TABLE Users (\n",
        "  user_id INT,\n",
        "  name STRING,\n",
        "  email STRING,\n",
        "  birth_date DATE,\n",
        "  city STRING,\n",
        "  country STRING,\n",
        "  created_at TIMESTAMP\n",
        ")\n",
        "''')"
      ],
      "metadata": {
        "colab": {
          "base_uri": "https://localhost:8080/"
        },
        "id": "Dkn1y5clz_LJ",
        "outputId": "8ad2d2be-8677-4779-e02c-5330463b54f6"
      },
      "execution_count": 6,
      "outputs": [
        {
          "output_type": "execute_result",
          "data": {
            "text/plain": [
              "DataFrame[]"
            ]
          },
          "metadata": {},
          "execution_count": 6
        }
      ]
    },
    {
      "cell_type": "markdown",
      "source": [
        "## Questao 1: Adicione o banco de dados no pyspark e inserem mais registros no banco de dados."
      ],
      "metadata": {
        "id": "7-eelhJfKJrp"
      }
    },
    {
      "cell_type": "code",
      "source": [
        "spark.sql('''\n",
        "INSERT INTO Users VALUES\n",
        "(1, 'Alice Souza', 'alice@email.com', DATE('1995-04-23'), 'São Paulo', 'Brasil', TIMESTAMP('2023-01-10 14:30:00')),\n",
        "(2, 'Bruno Lima', 'bruno@email.com', DATE('1990-06-17'), 'Rio de Janeiro', 'Brasil', TIMESTAMP('2022-11-05 09:15:00')),\n",
        "(3, 'Carla Mendes', 'carla@email.com', DATE('1998-09-12'), 'Belo Horizonte', 'Brasil', TIMESTAMP('2023-03-22 18:45:00')),\n",
        "(4, 'Diego Santos', 'diego@email.com', DATE('1992-07-08'), 'Curitiba', 'Brasil', TIMESTAMP('2023-05-14 11:20:00')),\n",
        "(5, 'Eduarda Ribeiro', 'eduarda@email.com', DATE('2000-01-30'), 'Salvador', 'Brasil', TIMESTAMP('2023-06-25 16:50:00')),\n",
        "(6, 'Felipe Araújo', 'felipe@email.com', DATE('1988-02-11'), 'Fortaleza', 'Brasil', TIMESTAMP('2023-07-01 08:10:00')),\n",
        "(7, 'Gabriela Rocha', 'gabriela@email.com', DATE('1996-03-19'), 'Recife', 'Brasil', TIMESTAMP('2023-08-15 14:05:00')),\n",
        "(8, 'Henrique Silva', 'henrique@email.com', DATE('1993-10-07'), 'Porto Alegre', 'Brasil', TIMESTAMP('2022-12-12 10:00:00')),\n",
        "(9, 'Isabela Martins', 'isabela@email.com', DATE('1999-12-25'), 'Florianópolis', 'Brasil', TIMESTAMP('2023-09-03 12:45:00')),\n",
        "(10, 'João Pedro', 'joao@email.com', DATE('1985-05-20'), 'Manaus', 'Brasil', TIMESTAMP('2023-04-10 09:30:00')),\n",
        "(11, 'Karen Oliveira', 'karen@email.com', DATE('1997-08-15'), 'Natal', 'Brasil', TIMESTAMP('2023-02-27 17:20:00')),\n",
        "(12, 'Lucas Fernandes', 'lucas@email.com', DATE('1991-11-30'), 'João Pessoa', 'Brasil', TIMESTAMP('2023-03-14 13:10:00')),\n",
        "(13, 'Mariana Costa', 'mariana@email.com', DATE('1994-06-01'), 'São Luís', 'Brasil', TIMESTAMP('2023-05-29 15:25:00')),\n",
        "(14, 'Nicolas Teixeira', 'nicolas@email.com', DATE('1990-09-10'), 'Campo Grande', 'Brasil', TIMESTAMP('2023-06-18 10:40:00')),\n",
        "(15, 'Olívia Almeida', 'olivia@email.com', DATE('1998-04-05'), 'Teresina', 'Brasil', TIMESTAMP('2023-07-07 16:55:00')),\n",
        "(16, 'Paulo Henrique', 'paulo@email.com', DATE('1992-03-14'), 'Aracaju', 'Brasil', TIMESTAMP('2023-08-02 11:35:00')),\n",
        "(17, 'Quezia Lima', 'quezia@email.com', DATE('1995-07-27'), 'Maceió', 'Brasil', TIMESTAMP('2023-09-11 13:00:00')),\n",
        "(18, 'Rafael Nogueira', 'rafael@email.com', DATE('1989-10-18'), 'Belém', 'Brasil', TIMESTAMP('2023-10-20 08:50:00')),\n",
        "(19, 'Sabrina Farias', 'sabrina@email.com', DATE('1996-12-09'), 'Vitória', 'Brasil', TIMESTAMP('2023-11-25 17:15:00')),\n",
        "(20, 'Thiago Monteiro', 'thiago@email.com', DATE('1993-01-22'), 'Palmas', 'Brasil', TIMESTAMP('2023-12-05 19:40:00'));\n",
        "''')"
      ],
      "metadata": {
        "colab": {
          "base_uri": "https://localhost:8080/"
        },
        "id": "b3gcoUS50ECc",
        "outputId": "664c9088-1ac5-4cd4-ee6c-bc2b13818164"
      },
      "execution_count": 7,
      "outputs": [
        {
          "output_type": "execute_result",
          "data": {
            "text/plain": [
              "DataFrame[]"
            ]
          },
          "metadata": {},
          "execution_count": 7
        }
      ]
    },
    {
      "cell_type": "code",
      "source": [
        "Users = spark.sql('''\n",
        "SELECT * FROM Users;\n",
        "''')"
      ],
      "metadata": {
        "id": "0bm_RmkU0Jki"
      },
      "execution_count": 8,
      "outputs": []
    },
    {
      "cell_type": "markdown",
      "source": [
        "## Questão 2: Transforme todas as tabelas em DataFrame"
      ],
      "metadata": {
        "id": "c18X45_tK4yC"
      }
    },
    {
      "cell_type": "code",
      "source": [
        "Users.show()"
      ],
      "metadata": {
        "colab": {
          "base_uri": "https://localhost:8080/"
        },
        "id": "saVO8vmB0LP8",
        "outputId": "04711ee0-7478-41da-b4bd-1e92f36a5bd0"
      },
      "execution_count": 9,
      "outputs": [
        {
          "output_type": "stream",
          "name": "stdout",
          "text": [
            "+-------+----------------+------------------+----------+--------------+-------+-------------------+\n",
            "|user_id|            name|             email|birth_date|          city|country|         created_at|\n",
            "+-------+----------------+------------------+----------+--------------+-------+-------------------+\n",
            "|     11|  Karen Oliveira|   karen@email.com|1997-08-15|         Natal| Brasil|2023-02-27 17:20:00|\n",
            "|     12| Lucas Fernandes|   lucas@email.com|1991-11-30|   João Pessoa| Brasil|2023-03-14 13:10:00|\n",
            "|     13|   Mariana Costa| mariana@email.com|1994-06-01|      São Luís| Brasil|2023-05-29 15:25:00|\n",
            "|     14|Nicolas Teixeira| nicolas@email.com|1990-09-10|  Campo Grande| Brasil|2023-06-18 10:40:00|\n",
            "|     15|  Olívia Almeida|  olivia@email.com|1998-04-05|      Teresina| Brasil|2023-07-07 16:55:00|\n",
            "|     16|  Paulo Henrique|   paulo@email.com|1992-03-14|       Aracaju| Brasil|2023-08-02 11:35:00|\n",
            "|     17|     Quezia Lima|  quezia@email.com|1995-07-27|        Maceió| Brasil|2023-09-11 13:00:00|\n",
            "|     18| Rafael Nogueira|  rafael@email.com|1989-10-18|         Belém| Brasil|2023-10-20 08:50:00|\n",
            "|     19|  Sabrina Farias| sabrina@email.com|1996-12-09|       Vitória| Brasil|2023-11-25 17:15:00|\n",
            "|     20| Thiago Monteiro|  thiago@email.com|1993-01-22|        Palmas| Brasil|2023-12-05 19:40:00|\n",
            "|      1|     Alice Souza|   alice@email.com|1995-04-23|     São Paulo| Brasil|2023-01-10 14:30:00|\n",
            "|      2|      Bruno Lima|   bruno@email.com|1990-06-17|Rio de Janeiro| Brasil|2022-11-05 09:15:00|\n",
            "|      3|    Carla Mendes|   carla@email.com|1998-09-12|Belo Horizonte| Brasil|2023-03-22 18:45:00|\n",
            "|      4|    Diego Santos|   diego@email.com|1992-07-08|      Curitiba| Brasil|2023-05-14 11:20:00|\n",
            "|      5| Eduarda Ribeiro| eduarda@email.com|2000-01-30|      Salvador| Brasil|2023-06-25 16:50:00|\n",
            "|      6|   Felipe Araújo|  felipe@email.com|1988-02-11|     Fortaleza| Brasil|2023-07-01 08:10:00|\n",
            "|      7|  Gabriela Rocha|gabriela@email.com|1996-03-19|        Recife| Brasil|2023-08-15 14:05:00|\n",
            "|      8|  Henrique Silva|henrique@email.com|1993-10-07|  Porto Alegre| Brasil|2022-12-12 10:00:00|\n",
            "|      9| Isabela Martins| isabela@email.com|1999-12-25| Florianópolis| Brasil|2023-09-03 12:45:00|\n",
            "|     10|      João Pedro|    joao@email.com|1985-05-20|        Manaus| Brasil|2023-04-10 09:30:00|\n",
            "+-------+----------------+------------------+----------+--------------+-------+-------------------+\n",
            "\n"
          ]
        }
      ]
    },
    {
      "cell_type": "code",
      "source": [
        "spark.sql('''\n",
        "CREATE TABLE Posts (\n",
        "  post_id INT,\n",
        "  user_id INT,\n",
        "  content STRING,\n",
        "  created_at TIMESTAMP\n",
        ")\n",
        "''')"
      ],
      "metadata": {
        "colab": {
          "base_uri": "https://localhost:8080/"
        },
        "id": "KVUffhHU0RD9",
        "outputId": "3e5468ae-4ffc-44e1-d3d1-5623e05e9bb4"
      },
      "execution_count": 10,
      "outputs": [
        {
          "output_type": "execute_result",
          "data": {
            "text/plain": [
              "DataFrame[]"
            ]
          },
          "metadata": {},
          "execution_count": 10
        }
      ]
    },
    {
      "cell_type": "markdown",
      "source": [
        "## Questão 1. Adicione o banco de dados no pyspark e inserem mais registros no banco de dados.\n"
      ],
      "metadata": {
        "id": "VqKw1jnhKS4R"
      }
    },
    {
      "cell_type": "code",
      "source": [
        "spark.sql('''\n",
        "INSERT INTO Posts VALUES\n",
        "(1, 1, 'Adoro programar em PySpark!', TIMESTAMP('2024-02-01 10:00:00')),\n",
        "(2, 2, 'Hoje foi um dia incrível!', TIMESTAMP('2024-02-02 15:30:00')),\n",
        "(3, 3, 'Alguém tem recomendações de livros?', TIMESTAMP('2024-02-03 20:45:00')),\n",
        "(4, 4, 'Explorando novos frameworks de machine learning.', TIMESTAMP('2024-02-04 13:10:00')),\n",
        "(5, 5, 'Quais são seus podcasts favoritos?', TIMESTAMP('2024-02-05 09:30:00')),\n",
        "(6, 6, 'O que vocês acham do futuro da inteligência artificial?', TIMESTAMP('2024-02-06 11:45:00')),\n",
        "(7, 7, 'Estou aprendendo sobre pipelines no PySpark, bem interessante!', TIMESTAMP('2024-02-07 14:20:00')),\n",
        "(8, 8, 'Como vocês lidam com grandes volumes de dados em tempo real?', TIMESTAMP('2024-02-08 18:30:00')),\n",
        "(9, 9, 'Alguém tem sugestões de bons cursos sobre Data Science?', TIMESTAMP('2024-02-09 16:00:00')),\n",
        "(10, 10, 'Estou começando a aprender sobre Hadoop, dicas de onde começar?', TIMESTAMP('2024-02-10 12:05:00')),\n",
        "(11, 11, 'Quais são as melhores práticas para otimizar consultas no Spark?', TIMESTAMP('2024-02-11 08:50:00')),\n",
        "(12, 12, 'Eu adoro trabalhar com big data, as possibilidades são infinitas!', TIMESTAMP('2024-02-12 09:40:00')),\n",
        "(13, 13, 'Estou testando diferentes algoritmos de machine learning, algum favorito?', TIMESTAMP('2024-02-13 17:25:00')),\n",
        "(14, 14, 'Como vocês estruturam suas bases de dados em ambientes de produção?', TIMESTAMP('2024-02-14 14:10:00')),\n",
        "(15, 15, 'Alguém já usou o PyArrow? Estou curioso sobre sua performance.', TIMESTAMP('2024-02-15 10:00:00')),\n",
        "(16, 16, 'Tô experimentando o Apache Kafka para streaming de dados, bem legal!', TIMESTAMP('2024-02-16 13:55:00')),\n",
        "(17, 17, 'Alguém tem experiências com dados desestruturados? Estou começando a mexer com isso.', TIMESTAMP('2024-02-17 11:15:00')),\n",
        "(18, 18, 'Como vocês fazem a integração entre bancos NoSQL e Spark?', TIMESTAMP('2024-02-18 16:45:00')),\n",
        "(19, 19, 'Recentemente li sobre o uso de Data Lakes, alguém já trabalhou com isso?', TIMESTAMP('2024-02-19 12:25:00')),\n",
        "(20, 20, 'Acho que estou começando a gostar mais de análise de dados do que de programação!', TIMESTAMP('2024-02-20 09:30:00'));\n",
        "''')"
      ],
      "metadata": {
        "colab": {
          "base_uri": "https://localhost:8080/"
        },
        "id": "jQTcSLa70Tmg",
        "outputId": "aa9c71b4-d625-4e81-e138-d62950e2892d"
      },
      "execution_count": 11,
      "outputs": [
        {
          "output_type": "execute_result",
          "data": {
            "text/plain": [
              "DataFrame[]"
            ]
          },
          "metadata": {},
          "execution_count": 11
        }
      ]
    },
    {
      "cell_type": "code",
      "source": [
        "Posts = spark.sql('''\n",
        "SELECT * FROM Posts;\n",
        "''')"
      ],
      "metadata": {
        "id": "IMGFEoTQ0V47"
      },
      "execution_count": 12,
      "outputs": []
    },
    {
      "cell_type": "markdown",
      "source": [
        "## Questão 2. Transforme todas as tabelas em DataFrame"
      ],
      "metadata": {
        "id": "b3UyTp4BLEgz"
      }
    },
    {
      "cell_type": "code",
      "source": [
        "Posts.show()"
      ],
      "metadata": {
        "colab": {
          "base_uri": "https://localhost:8080/"
        },
        "id": "cW-jnKT30XRh",
        "outputId": "0a3f7419-dab1-4d13-bb31-b167aad2aa68"
      },
      "execution_count": 13,
      "outputs": [
        {
          "output_type": "stream",
          "name": "stdout",
          "text": [
            "+-------+-------+--------------------+-------------------+\n",
            "|post_id|user_id|             content|         created_at|\n",
            "+-------+-------+--------------------+-------------------+\n",
            "|     11|     11|Quais são as melh...|2024-02-11 08:50:00|\n",
            "|     12|     12|Eu adoro trabalha...|2024-02-12 09:40:00|\n",
            "|     13|     13|Estou testando di...|2024-02-13 17:25:00|\n",
            "|     14|     14|Como vocês estrut...|2024-02-14 14:10:00|\n",
            "|     15|     15|Alguém já usou o ...|2024-02-15 10:00:00|\n",
            "|     16|     16|Tô experimentando...|2024-02-16 13:55:00|\n",
            "|     17|     17|Alguém tem experi...|2024-02-17 11:15:00|\n",
            "|     18|     18|Como vocês fazem ...|2024-02-18 16:45:00|\n",
            "|     19|     19|Recentemente li s...|2024-02-19 12:25:00|\n",
            "|     20|     20|Acho que estou co...|2024-02-20 09:30:00|\n",
            "|      1|      1|Adoro programar e...|2024-02-01 10:00:00|\n",
            "|      2|      2|Hoje foi um dia i...|2024-02-02 15:30:00|\n",
            "|      3|      3|Alguém tem recome...|2024-02-03 20:45:00|\n",
            "|      4|      4|Explorando novos ...|2024-02-04 13:10:00|\n",
            "|      5|      5|Quais são seus po...|2024-02-05 09:30:00|\n",
            "|      6|      6|O que vocês acham...|2024-02-06 11:45:00|\n",
            "|      7|      7|Estou aprendendo ...|2024-02-07 14:20:00|\n",
            "|      8|      8|Como vocês lidam ...|2024-02-08 18:30:00|\n",
            "|      9|      9|Alguém tem sugest...|2024-02-09 16:00:00|\n",
            "|     10|     10|Estou começando a...|2024-02-10 12:05:00|\n",
            "+-------+-------+--------------------+-------------------+\n",
            "\n"
          ]
        }
      ]
    },
    {
      "cell_type": "code",
      "source": [
        "spark.sql('''\n",
        "CREATE TABLE Comments (\n",
        "  comment_id INT,\n",
        "  post_id INT,\n",
        "  user_id INT,\n",
        "  content STRING,\n",
        "  created_at TIMESTAMP\n",
        ")\n",
        "''')"
      ],
      "metadata": {
        "colab": {
          "base_uri": "https://localhost:8080/"
        },
        "id": "Z8oyacyy0ZJx",
        "outputId": "1b60fb48-2562-429b-a4bd-b5c7f823ed72"
      },
      "execution_count": 14,
      "outputs": [
        {
          "output_type": "execute_result",
          "data": {
            "text/plain": [
              "DataFrame[]"
            ]
          },
          "metadata": {},
          "execution_count": 14
        }
      ]
    },
    {
      "cell_type": "markdown",
      "source": [
        "## Questão 1. Adicione o banco de dados no pyspark e inserem mais registros no banco de dados.\n"
      ],
      "metadata": {
        "id": "xAxQcFgnKd_f"
      }
    },
    {
      "cell_type": "code",
      "source": [
        "spark.sql('''\n",
        "INSERT INTO Comments VALUES\n",
        "(1, 1, 2, 'Muito legal, Alice!', TIMESTAMP('2024-02-01 12:00:00')),\n",
        "(2, 2, 3, 'Que bom, Bruno!', TIMESTAMP('2024-02-02 16:00:00')),\n",
        "(3, 3, 1, 'Depende do gênero, Carla!', TIMESTAMP('2024-02-03 21:30:00')),\n",
        "(4, 4, 5, 'Também estou estudando isso, Diego!', TIMESTAMP('2024-02-04 14:00:00')),\n",
        "(5, 5, 4, 'Gosto muito de podcasts sobre tecnologia.', TIMESTAMP('2024-02-05 10:00:00')),\n",
        "(6, 6, 7, 'Você já ouviu falar de Data Science?', TIMESTAMP('2024-02-06 11:30:00')),\n",
        "(7, 7, 8, 'Sim, adoro trabalhar com aprendizado de máquina!', TIMESTAMP('2024-02-07 13:20:00')),\n",
        "(8, 8, 9, 'Estou começando com Big Data, muito desafiador.', TIMESTAMP('2024-02-08 14:40:00')),\n",
        "(9, 9, 10, 'Amo os cursos online de Machine Learning!', TIMESTAMP('2024-02-09 15:10:00')),\n",
        "(10, 10, 11, 'Como vocês organizam seus projetos de dados?', TIMESTAMP('2024-02-10 12:55:00')),\n",
        "(11, 11, 12, 'Tenho usado muito o TensorFlow para minhas análises.', TIMESTAMP('2024-02-11 16:30:00')),\n",
        "(12, 12, 13, 'Acho que aprender Spark é essencial para quem quer trabalhar com dados.', TIMESTAMP('2024-02-12 09:25:00')),\n",
        "(13, 13, 14, 'Data Lakes parecem muito interessantes, alguém já usou?', TIMESTAMP('2024-02-13 18:00:00')),\n",
        "(14, 14, 15, 'Alguém tem boas referências de livros sobre estatísticas?', TIMESTAMP('2024-02-14 11:15:00')),\n",
        "(15, 15, 16, 'Estive lendo sobre Kafka, estou pensando em usar para streaming de dados.', TIMESTAMP('2024-02-15 14:50:00')),\n",
        "(16, 16, 17, 'Estou planejando migrar meu projeto para o AWS, alguém tem dicas?', TIMESTAMP('2024-02-16 13:00:00')),\n",
        "(17, 17, 18, 'Recentemente comecei a usar o Apache Flink, estou gostando muito.', TIMESTAMP('2024-02-17 10:30:00')),\n",
        "(18, 18, 19, 'Quem mais aqui trabalha com análise preditiva?', TIMESTAMP('2024-02-18 17:45:00')),\n",
        "(19, 19, 20, 'Eu estou testando o uso de Docker nos meus projetos de dados.', TIMESTAMP('2024-02-19 09:50:00')),\n",
        "(20, 20, 21, 'Adoro trabalhar com dados desestruturados, tem muitas possibilidades.', TIMESTAMP('2024-02-20 14:15:00'));\n",
        "''')"
      ],
      "metadata": {
        "colab": {
          "base_uri": "https://localhost:8080/"
        },
        "id": "pKuoqnpZ0cUk",
        "outputId": "bd3ed96a-0df4-49f0-c28d-1568cadd44f1"
      },
      "execution_count": 15,
      "outputs": [
        {
          "output_type": "execute_result",
          "data": {
            "text/plain": [
              "DataFrame[]"
            ]
          },
          "metadata": {},
          "execution_count": 15
        }
      ]
    },
    {
      "cell_type": "code",
      "source": [
        "Comments = spark.sql('''\n",
        "SELECT * FROM Comments;\n",
        "''')"
      ],
      "metadata": {
        "id": "aWq392lX0eSx"
      },
      "execution_count": 16,
      "outputs": []
    },
    {
      "cell_type": "markdown",
      "source": [
        "## Questão 2. Transforme todas as tabelas em DataFrame"
      ],
      "metadata": {
        "id": "BXYd-Hq4LKlu"
      }
    },
    {
      "cell_type": "code",
      "source": [
        "Comments.show()"
      ],
      "metadata": {
        "colab": {
          "base_uri": "https://localhost:8080/"
        },
        "id": "7I9iQxmL0f0v",
        "outputId": "d397882a-3927-4a3e-e98a-557038bdceb2"
      },
      "execution_count": 17,
      "outputs": [
        {
          "output_type": "stream",
          "name": "stdout",
          "text": [
            "+----------+-------+-------+--------------------+-------------------+\n",
            "|comment_id|post_id|user_id|             content|         created_at|\n",
            "+----------+-------+-------+--------------------+-------------------+\n",
            "|         1|      1|      2| Muito legal, Alice!|2024-02-01 12:00:00|\n",
            "|         2|      2|      3|     Que bom, Bruno!|2024-02-02 16:00:00|\n",
            "|         3|      3|      1|Depende do gênero...|2024-02-03 21:30:00|\n",
            "|         4|      4|      5|Também estou estu...|2024-02-04 14:00:00|\n",
            "|         5|      5|      4|Gosto muito de po...|2024-02-05 10:00:00|\n",
            "|         6|      6|      7|Você já ouviu fal...|2024-02-06 11:30:00|\n",
            "|         7|      7|      8|Sim, adoro trabal...|2024-02-07 13:20:00|\n",
            "|         8|      8|      9|Estou começando c...|2024-02-08 14:40:00|\n",
            "|         9|      9|     10|Amo os cursos onl...|2024-02-09 15:10:00|\n",
            "|        10|     10|     11|Como vocês organi...|2024-02-10 12:55:00|\n",
            "|        11|     11|     12|Tenho usado muito...|2024-02-11 16:30:00|\n",
            "|        12|     12|     13|Acho que aprender...|2024-02-12 09:25:00|\n",
            "|        13|     13|     14|Data Lakes parece...|2024-02-13 18:00:00|\n",
            "|        14|     14|     15|Alguém tem boas r...|2024-02-14 11:15:00|\n",
            "|        15|     15|     16|Estive lendo sobr...|2024-02-15 14:50:00|\n",
            "|        16|     16|     17|Estou planejando ...|2024-02-16 13:00:00|\n",
            "|        17|     17|     18|Recentemente come...|2024-02-17 10:30:00|\n",
            "|        18|     18|     19|Quem mais aqui tr...|2024-02-18 17:45:00|\n",
            "|        19|     19|     20|Eu estou testando...|2024-02-19 09:50:00|\n",
            "|        20|     20|     21|Adoro trabalhar c...|2024-02-20 14:15:00|\n",
            "+----------+-------+-------+--------------------+-------------------+\n",
            "\n"
          ]
        }
      ]
    },
    {
      "cell_type": "code",
      "source": [
        "spark.sql('''\n",
        "CREATE TABLE Friends (\n",
        "  user_id1 INT,\n",
        "  user_id2 INT,\n",
        "  since DATE\n",
        ")\n",
        "''')"
      ],
      "metadata": {
        "colab": {
          "base_uri": "https://localhost:8080/"
        },
        "id": "q-Yf-_XR0hqv",
        "outputId": "afd708cc-b30b-47f8-e7f3-63e90d23d727"
      },
      "execution_count": 18,
      "outputs": [
        {
          "output_type": "execute_result",
          "data": {
            "text/plain": [
              "DataFrame[]"
            ]
          },
          "metadata": {},
          "execution_count": 18
        }
      ]
    },
    {
      "cell_type": "markdown",
      "source": [
        "## Questão 1. Adicione o banco de dados no pyspark e inserem mais registros no banco de dados.\n"
      ],
      "metadata": {
        "id": "Lhg8GFoVKnfs"
      }
    },
    {
      "cell_type": "code",
      "source": [
        "spark.sql('''\n",
        "INSERT INTO Friends VALUES\n",
        "(1, 2, DATE('2023-05-10')),\n",
        "(2, 3, DATE('2023-06-15')),\n",
        "(1, 3, DATE('2023-07-20')),\n",
        "(4, 5, DATE('2023-08-30')),\n",
        "(2, 5, DATE('2023-09-12')),\n",
        "(6, 7, DATE('2024-01-25')),\n",
        "(7, 8, DATE('2024-02-01')),\n",
        "(8, 9, DATE('2024-03-05')),\n",
        "(9, 10, DATE('2024-04-10')),\n",
        "(10, 11, DATE('2024-05-15')),\n",
        "(11, 12, DATE('2024-06-20')),\n",
        "(12, 13, DATE('2024-07-25')),\n",
        "(13, 14, DATE('2024-08-01')),\n",
        "(14, 15, DATE('2024-09-10')),\n",
        "(15, 16, DATE('2024-10-05')),\n",
        "(17, 18, DATE('2024-11-12')),\n",
        "(18, 19, DATE('2024-12-01')),\n",
        "(19, 20, DATE('2024-12-15')),\n",
        "(20, 21, DATE('2025-01-05')),\n",
        "(21, 22, DATE('2025-01-10'));\n",
        "''')"
      ],
      "metadata": {
        "colab": {
          "base_uri": "https://localhost:8080/"
        },
        "id": "JM3PZQSV0l0f",
        "outputId": "e2d3f598-190b-4135-d4f3-0e3dc5dc77ce"
      },
      "execution_count": 19,
      "outputs": [
        {
          "output_type": "execute_result",
          "data": {
            "text/plain": [
              "DataFrame[]"
            ]
          },
          "metadata": {},
          "execution_count": 19
        }
      ]
    },
    {
      "cell_type": "code",
      "source": [
        "Friends = spark.sql('''\n",
        "SELECT * FROM Friends;\n",
        "''')"
      ],
      "metadata": {
        "id": "65zFDRea0nub"
      },
      "execution_count": 20,
      "outputs": []
    },
    {
      "cell_type": "markdown",
      "source": [
        "## Questão 2. Transforme todas as tabelas em DataFrame"
      ],
      "metadata": {
        "id": "nju41W9rLQBw"
      }
    },
    {
      "cell_type": "code",
      "source": [
        "Friends.show()"
      ],
      "metadata": {
        "colab": {
          "base_uri": "https://localhost:8080/"
        },
        "id": "1RLL1bIl0pA7",
        "outputId": "ff24ea05-2306-46cc-c68b-1aebb026c5c8"
      },
      "execution_count": 21,
      "outputs": [
        {
          "output_type": "stream",
          "name": "stdout",
          "text": [
            "+--------+--------+----------+\n",
            "|user_id1|user_id2|     since|\n",
            "+--------+--------+----------+\n",
            "|      11|      12|2024-06-20|\n",
            "|      12|      13|2024-07-25|\n",
            "|      13|      14|2024-08-01|\n",
            "|      14|      15|2024-09-10|\n",
            "|      15|      16|2024-10-05|\n",
            "|      17|      18|2024-11-12|\n",
            "|      18|      19|2024-12-01|\n",
            "|      19|      20|2024-12-15|\n",
            "|      20|      21|2025-01-05|\n",
            "|      21|      22|2025-01-10|\n",
            "|       1|       2|2023-05-10|\n",
            "|       2|       3|2023-06-15|\n",
            "|       1|       3|2023-07-20|\n",
            "|       4|       5|2023-08-30|\n",
            "|       2|       5|2023-09-12|\n",
            "|       6|       7|2024-01-25|\n",
            "|       7|       8|2024-02-01|\n",
            "|       8|       9|2024-03-05|\n",
            "|       9|      10|2024-04-10|\n",
            "|      10|      11|2024-05-15|\n",
            "+--------+--------+----------+\n",
            "\n"
          ]
        }
      ]
    },
    {
      "cell_type": "code",
      "source": [
        "spark.sql('''\n",
        "CREATE TABLE Reactions (\n",
        "  reaction_id INT,\n",
        "  post_id INT,\n",
        "  user_id INT,\n",
        "  reaction_type STRING, -- Like, Love, Haha, Wow, Sad, Angry\n",
        "  created_at TIMESTAMP\n",
        ")\n",
        "''')"
      ],
      "metadata": {
        "colab": {
          "base_uri": "https://localhost:8080/"
        },
        "id": "YiNWxEh10q_a",
        "outputId": "cebcfc2d-5fd7-47ea-8f03-5b043d3c476a"
      },
      "execution_count": 22,
      "outputs": [
        {
          "output_type": "execute_result",
          "data": {
            "text/plain": [
              "DataFrame[]"
            ]
          },
          "metadata": {},
          "execution_count": 22
        }
      ]
    },
    {
      "cell_type": "markdown",
      "source": [
        "## Questão 1. Adicione o banco de dados no pyspark e inserem mais registros no banco de dados.\n"
      ],
      "metadata": {
        "id": "q6GYwk71KtD2"
      }
    },
    {
      "cell_type": "code",
      "source": [
        "spark.sql('''\n",
        "INSERT INTO Reactions VALUES\n",
        "(1, 1, 2, 'Like', TIMESTAMP('2024-02-01 12:10:00')),\n",
        "(2, 2, 3, 'Love', TIMESTAMP('2024-02-02 16:15:00')),\n",
        "(3, 3, 1, 'Haha', TIMESTAMP('2024-02-03 21:45:00')),\n",
        "(4, 4, 5, 'Wow', TIMESTAMP('2024-02-04 14:30:00')),\n",
        "(5, 5, 4, 'Love', TIMESTAMP('2024-02-05 10:15:00')),\n",
        "(6, 6, 7, 'Like', TIMESTAMP('2024-02-06 11:00:00')),\n",
        "(7, 7, 8, 'Wow', TIMESTAMP('2024-02-07 13:25:00')),\n",
        "(8, 8, 9, 'Sad', TIMESTAMP('2024-02-08 15:40:00')),\n",
        "(9, 9, 10, 'Angry', TIMESTAMP('2024-02-09 17:00:00')),\n",
        "(10, 10, 11, 'Like', TIMESTAMP('2024-02-10 12:05:00')),\n",
        "(11, 11, 12, 'Love', TIMESTAMP('2024-02-11 18:10:00')),\n",
        "(12, 12, 13, 'Wow', TIMESTAMP('2024-02-12 14:30:00')),\n",
        "(13, 13, 14, 'Haha', TIMESTAMP('2024-02-13 10:50:00')),\n",
        "(14, 14, 15, 'Sad', TIMESTAMP('2024-02-14 11:30:00')),\n",
        "(15, 15, 16, 'Angry', TIMESTAMP('2024-02-15 16:00:00')),\n",
        "(16, 16, 17, 'Love', TIMESTAMP('2024-02-16 09:45:00')),\n",
        "(17, 17, 18, 'Like', TIMESTAMP('2024-02-17 13:20:00')),\n",
        "(18, 18, 19, 'Wow', TIMESTAMP('2024-02-18 12:10:00')),\n",
        "(19, 19, 20, 'Like', TIMESTAMP('2024-02-19 14:50:00')),\n",
        "(20, 20, 21, 'Love', TIMESTAMP('2024-02-20 09:30:00'));\n",
        "'''\n",
        ")"
      ],
      "metadata": {
        "colab": {
          "base_uri": "https://localhost:8080/"
        },
        "id": "-KuQY6fY0uc6",
        "outputId": "de28da59-a648-496c-ab5e-fd38f9abfd54"
      },
      "execution_count": 23,
      "outputs": [
        {
          "output_type": "execute_result",
          "data": {
            "text/plain": [
              "DataFrame[]"
            ]
          },
          "metadata": {},
          "execution_count": 23
        }
      ]
    },
    {
      "cell_type": "code",
      "source": [
        "Reactions = spark.sql('''\n",
        "SELECT * FROM Reactions;\n",
        "''')"
      ],
      "metadata": {
        "id": "txRExzGL0wna"
      },
      "execution_count": 24,
      "outputs": []
    },
    {
      "cell_type": "markdown",
      "source": [
        "## Questão 2. Transforme todas as tabelas em DataFrame"
      ],
      "metadata": {
        "id": "ZSy8vYbvLZAp"
      }
    },
    {
      "cell_type": "code",
      "source": [
        "Reactions.show()"
      ],
      "metadata": {
        "colab": {
          "base_uri": "https://localhost:8080/"
        },
        "id": "5lQ_GUm80yXK",
        "outputId": "5a9d5cdf-ba63-4aaa-bed1-de1c9a01ed1e"
      },
      "execution_count": 25,
      "outputs": [
        {
          "output_type": "stream",
          "name": "stdout",
          "text": [
            "+-----------+-------+-------+-------------+-------------------+\n",
            "|reaction_id|post_id|user_id|reaction_type|         created_at|\n",
            "+-----------+-------+-------+-------------+-------------------+\n",
            "|          1|      1|      2|         Like|2024-02-01 12:10:00|\n",
            "|          2|      2|      3|         Love|2024-02-02 16:15:00|\n",
            "|          3|      3|      1|         Haha|2024-02-03 21:45:00|\n",
            "|          4|      4|      5|          Wow|2024-02-04 14:30:00|\n",
            "|          5|      5|      4|         Love|2024-02-05 10:15:00|\n",
            "|          6|      6|      7|         Like|2024-02-06 11:00:00|\n",
            "|          7|      7|      8|          Wow|2024-02-07 13:25:00|\n",
            "|          8|      8|      9|          Sad|2024-02-08 15:40:00|\n",
            "|          9|      9|     10|        Angry|2024-02-09 17:00:00|\n",
            "|         10|     10|     11|         Like|2024-02-10 12:05:00|\n",
            "|         11|     11|     12|         Love|2024-02-11 18:10:00|\n",
            "|         12|     12|     13|          Wow|2024-02-12 14:30:00|\n",
            "|         13|     13|     14|         Haha|2024-02-13 10:50:00|\n",
            "|         14|     14|     15|          Sad|2024-02-14 11:30:00|\n",
            "|         15|     15|     16|        Angry|2024-02-15 16:00:00|\n",
            "|         16|     16|     17|         Love|2024-02-16 09:45:00|\n",
            "|         17|     17|     18|         Like|2024-02-17 13:20:00|\n",
            "|         18|     18|     19|          Wow|2024-02-18 12:10:00|\n",
            "|         19|     19|     20|         Like|2024-02-19 14:50:00|\n",
            "|         20|     20|     21|         Love|2024-02-20 09:30:00|\n",
            "+-----------+-------+-------+-------------+-------------------+\n",
            "\n"
          ]
        }
      ]
    },
    {
      "cell_type": "markdown",
      "source": [
        "## Questão 3. Liste todos da tabela usuarios"
      ],
      "metadata": {
        "id": "zWDp-x4OLtiF"
      }
    },
    {
      "cell_type": "code",
      "source": [
        "Users.show()"
      ],
      "metadata": {
        "colab": {
          "base_uri": "https://localhost:8080/"
        },
        "id": "fg2S1C2lEVAw",
        "outputId": "15c30835-1e6d-4c21-f2f0-613c72e89538"
      },
      "execution_count": 28,
      "outputs": [
        {
          "output_type": "stream",
          "name": "stdout",
          "text": [
            "+-------+----------------+------------------+----------+--------------+-------+-------------------+\n",
            "|user_id|            name|             email|birth_date|          city|country|         created_at|\n",
            "+-------+----------------+------------------+----------+--------------+-------+-------------------+\n",
            "|     11|  Karen Oliveira|   karen@email.com|1997-08-15|         Natal| Brasil|2023-02-27 17:20:00|\n",
            "|     12| Lucas Fernandes|   lucas@email.com|1991-11-30|   João Pessoa| Brasil|2023-03-14 13:10:00|\n",
            "|     13|   Mariana Costa| mariana@email.com|1994-06-01|      São Luís| Brasil|2023-05-29 15:25:00|\n",
            "|     14|Nicolas Teixeira| nicolas@email.com|1990-09-10|  Campo Grande| Brasil|2023-06-18 10:40:00|\n",
            "|     15|  Olívia Almeida|  olivia@email.com|1998-04-05|      Teresina| Brasil|2023-07-07 16:55:00|\n",
            "|     16|  Paulo Henrique|   paulo@email.com|1992-03-14|       Aracaju| Brasil|2023-08-02 11:35:00|\n",
            "|     17|     Quezia Lima|  quezia@email.com|1995-07-27|        Maceió| Brasil|2023-09-11 13:00:00|\n",
            "|     18| Rafael Nogueira|  rafael@email.com|1989-10-18|         Belém| Brasil|2023-10-20 08:50:00|\n",
            "|     19|  Sabrina Farias| sabrina@email.com|1996-12-09|       Vitória| Brasil|2023-11-25 17:15:00|\n",
            "|     20| Thiago Monteiro|  thiago@email.com|1993-01-22|        Palmas| Brasil|2023-12-05 19:40:00|\n",
            "|      1|     Alice Souza|   alice@email.com|1995-04-23|     São Paulo| Brasil|2023-01-10 14:30:00|\n",
            "|      2|      Bruno Lima|   bruno@email.com|1990-06-17|Rio de Janeiro| Brasil|2022-11-05 09:15:00|\n",
            "|      3|    Carla Mendes|   carla@email.com|1998-09-12|Belo Horizonte| Brasil|2023-03-22 18:45:00|\n",
            "|      4|    Diego Santos|   diego@email.com|1992-07-08|      Curitiba| Brasil|2023-05-14 11:20:00|\n",
            "|      5| Eduarda Ribeiro| eduarda@email.com|2000-01-30|      Salvador| Brasil|2023-06-25 16:50:00|\n",
            "|      6|   Felipe Araújo|  felipe@email.com|1988-02-11|     Fortaleza| Brasil|2023-07-01 08:10:00|\n",
            "|      7|  Gabriela Rocha|gabriela@email.com|1996-03-19|        Recife| Brasil|2023-08-15 14:05:00|\n",
            "|      8|  Henrique Silva|henrique@email.com|1993-10-07|  Porto Alegre| Brasil|2022-12-12 10:00:00|\n",
            "|      9| Isabela Martins| isabela@email.com|1999-12-25| Florianópolis| Brasil|2023-09-03 12:45:00|\n",
            "|     10|      João Pedro|    joao@email.com|1985-05-20|        Manaus| Brasil|2023-04-10 09:30:00|\n",
            "+-------+----------------+------------------+----------+--------------+-------+-------------------+\n",
            "\n"
          ]
        }
      ]
    },
    {
      "cell_type": "markdown",
      "source": [
        "## Questão 4. Liste todos da tabela Posts"
      ],
      "metadata": {
        "id": "Fv6rySD4L0PA"
      }
    },
    {
      "cell_type": "code",
      "source": [
        "Posts.show()"
      ],
      "metadata": {
        "colab": {
          "base_uri": "https://localhost:8080/"
        },
        "id": "2OU0zq8ZJveM",
        "outputId": "ac55e9b1-98f1-4932-fb8b-6372db22a655"
      },
      "execution_count": 33,
      "outputs": [
        {
          "output_type": "stream",
          "name": "stdout",
          "text": [
            "+-------+-------+--------------------+-------------------+\n",
            "|post_id|user_id|             content|         created_at|\n",
            "+-------+-------+--------------------+-------------------+\n",
            "|     11|     11|Quais são as melh...|2024-02-11 08:50:00|\n",
            "|     12|     12|Eu adoro trabalha...|2024-02-12 09:40:00|\n",
            "|     13|     13|Estou testando di...|2024-02-13 17:25:00|\n",
            "|     14|     14|Como vocês estrut...|2024-02-14 14:10:00|\n",
            "|     15|     15|Alguém já usou o ...|2024-02-15 10:00:00|\n",
            "|     16|     16|Tô experimentando...|2024-02-16 13:55:00|\n",
            "|     17|     17|Alguém tem experi...|2024-02-17 11:15:00|\n",
            "|     18|     18|Como vocês fazem ...|2024-02-18 16:45:00|\n",
            "|     19|     19|Recentemente li s...|2024-02-19 12:25:00|\n",
            "|     20|     20|Acho que estou co...|2024-02-20 09:30:00|\n",
            "|      1|      1|Adoro programar e...|2024-02-01 10:00:00|\n",
            "|      2|      2|Hoje foi um dia i...|2024-02-02 15:30:00|\n",
            "|      3|      3|Alguém tem recome...|2024-02-03 20:45:00|\n",
            "|      4|      4|Explorando novos ...|2024-02-04 13:10:00|\n",
            "|      5|      5|Quais são seus po...|2024-02-05 09:30:00|\n",
            "|      6|      6|O que vocês acham...|2024-02-06 11:45:00|\n",
            "|      7|      7|Estou aprendendo ...|2024-02-07 14:20:00|\n",
            "|      8|      8|Como vocês lidam ...|2024-02-08 18:30:00|\n",
            "|      9|      9|Alguém tem sugest...|2024-02-09 16:00:00|\n",
            "|     10|     10|Estou começando a...|2024-02-10 12:05:00|\n",
            "+-------+-------+--------------------+-------------------+\n",
            "\n"
          ]
        }
      ]
    },
    {
      "cell_type": "markdown",
      "source": [
        "## Questão 5. Liste todos da tabela comentários"
      ],
      "metadata": {
        "id": "VfMExCuzL7f6"
      }
    },
    {
      "cell_type": "code",
      "source": [
        "Comments.show()"
      ],
      "metadata": {
        "colab": {
          "base_uri": "https://localhost:8080/"
        },
        "id": "sKM34HJdJ3ut",
        "outputId": "c0a5ea1a-4b64-4a50-b1ee-dc0bad2bb29b"
      },
      "execution_count": 34,
      "outputs": [
        {
          "output_type": "stream",
          "name": "stdout",
          "text": [
            "+----------+-------+-------+--------------------+-------------------+\n",
            "|comment_id|post_id|user_id|             content|         created_at|\n",
            "+----------+-------+-------+--------------------+-------------------+\n",
            "|         1|      1|      2| Muito legal, Alice!|2024-02-01 12:00:00|\n",
            "|         2|      2|      3|     Que bom, Bruno!|2024-02-02 16:00:00|\n",
            "|         3|      3|      1|Depende do gênero...|2024-02-03 21:30:00|\n",
            "|         4|      4|      5|Também estou estu...|2024-02-04 14:00:00|\n",
            "|         5|      5|      4|Gosto muito de po...|2024-02-05 10:00:00|\n",
            "|         6|      6|      7|Você já ouviu fal...|2024-02-06 11:30:00|\n",
            "|         7|      7|      8|Sim, adoro trabal...|2024-02-07 13:20:00|\n",
            "|         8|      8|      9|Estou começando c...|2024-02-08 14:40:00|\n",
            "|         9|      9|     10|Amo os cursos onl...|2024-02-09 15:10:00|\n",
            "|        10|     10|     11|Como vocês organi...|2024-02-10 12:55:00|\n",
            "|        11|     11|     12|Tenho usado muito...|2024-02-11 16:30:00|\n",
            "|        12|     12|     13|Acho que aprender...|2024-02-12 09:25:00|\n",
            "|        13|     13|     14|Data Lakes parece...|2024-02-13 18:00:00|\n",
            "|        14|     14|     15|Alguém tem boas r...|2024-02-14 11:15:00|\n",
            "|        15|     15|     16|Estive lendo sobr...|2024-02-15 14:50:00|\n",
            "|        16|     16|     17|Estou planejando ...|2024-02-16 13:00:00|\n",
            "|        17|     17|     18|Recentemente come...|2024-02-17 10:30:00|\n",
            "|        18|     18|     19|Quem mais aqui tr...|2024-02-18 17:45:00|\n",
            "|        19|     19|     20|Eu estou testando...|2024-02-19 09:50:00|\n",
            "|        20|     20|     21|Adoro trabalhar c...|2024-02-20 14:15:00|\n",
            "+----------+-------+-------+--------------------+-------------------+\n",
            "\n"
          ]
        }
      ]
    },
    {
      "cell_type": "markdown",
      "source": [
        "## Questão 6. Liste todos da tabela amigos"
      ],
      "metadata": {
        "id": "jjjhjtAbMCkt"
      }
    },
    {
      "cell_type": "code",
      "source": [
        "Friends.show()"
      ],
      "metadata": {
        "colab": {
          "base_uri": "https://localhost:8080/"
        },
        "id": "r-79AMI3J7DO",
        "outputId": "d8bc6481-c822-403e-daf9-215872086f59"
      },
      "execution_count": 35,
      "outputs": [
        {
          "output_type": "stream",
          "name": "stdout",
          "text": [
            "+--------+--------+----------+\n",
            "|user_id1|user_id2|     since|\n",
            "+--------+--------+----------+\n",
            "|      11|      12|2024-06-20|\n",
            "|      12|      13|2024-07-25|\n",
            "|      13|      14|2024-08-01|\n",
            "|      14|      15|2024-09-10|\n",
            "|      15|      16|2024-10-05|\n",
            "|      17|      18|2024-11-12|\n",
            "|      18|      19|2024-12-01|\n",
            "|      19|      20|2024-12-15|\n",
            "|      20|      21|2025-01-05|\n",
            "|      21|      22|2025-01-10|\n",
            "|       1|       2|2023-05-10|\n",
            "|       2|       3|2023-06-15|\n",
            "|       1|       3|2023-07-20|\n",
            "|       4|       5|2023-08-30|\n",
            "|       2|       5|2023-09-12|\n",
            "|       6|       7|2024-01-25|\n",
            "|       7|       8|2024-02-01|\n",
            "|       8|       9|2024-03-05|\n",
            "|       9|      10|2024-04-10|\n",
            "|      10|      11|2024-05-15|\n",
            "+--------+--------+----------+\n",
            "\n"
          ]
        }
      ]
    },
    {
      "cell_type": "markdown",
      "source": [
        "## Questão 7. Liste todas da tabela reações"
      ],
      "metadata": {
        "id": "dgUn8bpoMINt"
      }
    },
    {
      "cell_type": "code",
      "source": [
        "Reactions.show()"
      ],
      "metadata": {
        "colab": {
          "base_uri": "https://localhost:8080/"
        },
        "id": "GGJJwl6SJ-ff",
        "outputId": "bf04904e-121d-4cb3-c792-25baa3c6f6cf"
      },
      "execution_count": 36,
      "outputs": [
        {
          "output_type": "stream",
          "name": "stdout",
          "text": [
            "+-----------+-------+-------+-------------+-------------------+\n",
            "|reaction_id|post_id|user_id|reaction_type|         created_at|\n",
            "+-----------+-------+-------+-------------+-------------------+\n",
            "|          1|      1|      2|         Like|2024-02-01 12:10:00|\n",
            "|          2|      2|      3|         Love|2024-02-02 16:15:00|\n",
            "|          3|      3|      1|         Haha|2024-02-03 21:45:00|\n",
            "|          4|      4|      5|          Wow|2024-02-04 14:30:00|\n",
            "|          5|      5|      4|         Love|2024-02-05 10:15:00|\n",
            "|          6|      6|      7|         Like|2024-02-06 11:00:00|\n",
            "|          7|      7|      8|          Wow|2024-02-07 13:25:00|\n",
            "|          8|      8|      9|          Sad|2024-02-08 15:40:00|\n",
            "|          9|      9|     10|        Angry|2024-02-09 17:00:00|\n",
            "|         10|     10|     11|         Like|2024-02-10 12:05:00|\n",
            "|         11|     11|     12|         Love|2024-02-11 18:10:00|\n",
            "|         12|     12|     13|          Wow|2024-02-12 14:30:00|\n",
            "|         13|     13|     14|         Haha|2024-02-13 10:50:00|\n",
            "|         14|     14|     15|          Sad|2024-02-14 11:30:00|\n",
            "|         15|     15|     16|        Angry|2024-02-15 16:00:00|\n",
            "|         16|     16|     17|         Love|2024-02-16 09:45:00|\n",
            "|         17|     17|     18|         Like|2024-02-17 13:20:00|\n",
            "|         18|     18|     19|          Wow|2024-02-18 12:10:00|\n",
            "|         19|     19|     20|         Like|2024-02-19 14:50:00|\n",
            "|         20|     20|     21|         Love|2024-02-20 09:30:00|\n",
            "+-----------+-------+-------+-------------+-------------------+\n",
            "\n"
          ]
        }
      ]
    },
    {
      "cell_type": "markdown",
      "source": [
        "## Questão 8. Exiba apenas os nomes e e-mails dos usuários."
      ],
      "metadata": {
        "id": "NvnsYHExMRMl"
      }
    },
    {
      "cell_type": "code",
      "source": [
        "# Exibir apenas os nomes e e-mails dos usuários\n",
        "spark.sql(\"SELECT name, email FROM Users\").show()"
      ],
      "metadata": {
        "colab": {
          "base_uri": "https://localhost:8080/"
        },
        "id": "Ui-CdSy0MM0k",
        "outputId": "c7e49181-38b9-418e-a6f7-3d42a2fb5d08"
      },
      "execution_count": 37,
      "outputs": [
        {
          "output_type": "stream",
          "name": "stdout",
          "text": [
            "+----------------+------------------+\n",
            "|            name|             email|\n",
            "+----------------+------------------+\n",
            "|  Karen Oliveira|   karen@email.com|\n",
            "| Lucas Fernandes|   lucas@email.com|\n",
            "|   Mariana Costa| mariana@email.com|\n",
            "|Nicolas Teixeira| nicolas@email.com|\n",
            "|  Olívia Almeida|  olivia@email.com|\n",
            "|  Paulo Henrique|   paulo@email.com|\n",
            "|     Quezia Lima|  quezia@email.com|\n",
            "| Rafael Nogueira|  rafael@email.com|\n",
            "|  Sabrina Farias| sabrina@email.com|\n",
            "| Thiago Monteiro|  thiago@email.com|\n",
            "|     Alice Souza|   alice@email.com|\n",
            "|      Bruno Lima|   bruno@email.com|\n",
            "|    Carla Mendes|   carla@email.com|\n",
            "|    Diego Santos|   diego@email.com|\n",
            "| Eduarda Ribeiro| eduarda@email.com|\n",
            "|   Felipe Araújo|  felipe@email.com|\n",
            "|  Gabriela Rocha|gabriela@email.com|\n",
            "|  Henrique Silva|henrique@email.com|\n",
            "| Isabela Martins| isabela@email.com|\n",
            "|      João Pedro|    joao@email.com|\n",
            "+----------------+------------------+\n",
            "\n"
          ]
        }
      ]
    },
    {
      "cell_type": "markdown",
      "source": [
        "## 9. Selecione os posts com seu respectivo usuário."
      ],
      "metadata": {
        "id": "FFFsuQZtcmDx"
      }
    },
    {
      "cell_type": "code",
      "source": [
        "# Selecionar os posts com o respectivo usuário\n",
        "spark.sql(\"\"\"\n",
        "SELECT p.post_id, p.content, u.name, u.email\n",
        "FROM Posts p\n",
        "JOIN Users u ON p.user_id = u.user_id\n",
        "\"\"\").show()\n"
      ],
      "metadata": {
        "colab": {
          "base_uri": "https://localhost:8080/"
        },
        "id": "XKLZYdNxctNV",
        "outputId": "a87b62fa-e946-4d29-ba6d-6d6cbecde923"
      },
      "execution_count": 38,
      "outputs": [
        {
          "output_type": "stream",
          "name": "stdout",
          "text": [
            "+-------+--------------------+----------------+------------------+\n",
            "|post_id|             content|            name|             email|\n",
            "+-------+--------------------+----------------+------------------+\n",
            "|     11|Quais são as melh...|  Karen Oliveira|   karen@email.com|\n",
            "|     12|Eu adoro trabalha...| Lucas Fernandes|   lucas@email.com|\n",
            "|     13|Estou testando di...|   Mariana Costa| mariana@email.com|\n",
            "|     14|Como vocês estrut...|Nicolas Teixeira| nicolas@email.com|\n",
            "|     15|Alguém já usou o ...|  Olívia Almeida|  olivia@email.com|\n",
            "|     16|Tô experimentando...|  Paulo Henrique|   paulo@email.com|\n",
            "|     17|Alguém tem experi...|     Quezia Lima|  quezia@email.com|\n",
            "|     18|Como vocês fazem ...| Rafael Nogueira|  rafael@email.com|\n",
            "|     19|Recentemente li s...|  Sabrina Farias| sabrina@email.com|\n",
            "|     20|Acho que estou co...| Thiago Monteiro|  thiago@email.com|\n",
            "|      1|Adoro programar e...|     Alice Souza|   alice@email.com|\n",
            "|      2|Hoje foi um dia i...|      Bruno Lima|   bruno@email.com|\n",
            "|      3|Alguém tem recome...|    Carla Mendes|   carla@email.com|\n",
            "|      4|Explorando novos ...|    Diego Santos|   diego@email.com|\n",
            "|      5|Quais são seus po...| Eduarda Ribeiro| eduarda@email.com|\n",
            "|      6|O que vocês acham...|   Felipe Araújo|  felipe@email.com|\n",
            "|      7|Estou aprendendo ...|  Gabriela Rocha|gabriela@email.com|\n",
            "|      8|Como vocês lidam ...|  Henrique Silva|henrique@email.com|\n",
            "|      9|Alguém tem sugest...| Isabela Martins| isabela@email.com|\n",
            "|     10|Estou começando a...|      João Pedro|    joao@email.com|\n",
            "+-------+--------------------+----------------+------------------+\n",
            "\n"
          ]
        }
      ]
    },
    {
      "cell_type": "markdown",
      "source": [
        "## 10. Liste todas as cidades únicas dos usuários.\n"
      ],
      "metadata": {
        "id": "EOnC9fMYgAmp"
      }
    },
    {
      "cell_type": "code",
      "source": [
        "# Selecionar as cidades únicas dos usuários\n",
        "spark.sql(\"SELECT DISTINCT city FROM Users\").show()"
      ],
      "metadata": {
        "colab": {
          "base_uri": "https://localhost:8080/"
        },
        "id": "nJYhkU6AgF2H",
        "outputId": "29b08125-9eac-4ac2-e886-088ca0950f26"
      },
      "execution_count": 39,
      "outputs": [
        {
          "output_type": "stream",
          "name": "stdout",
          "text": [
            "+--------------+\n",
            "|          city|\n",
            "+--------------+\n",
            "|     Fortaleza|\n",
            "|      Curitiba|\n",
            "|  Campo Grande|\n",
            "|      São Luís|\n",
            "|        Palmas|\n",
            "|       Aracaju|\n",
            "|   João Pessoa|\n",
            "|Belo Horizonte|\n",
            "|         Belém|\n",
            "| Florianópolis|\n",
            "|      Teresina|\n",
            "|      Salvador|\n",
            "|     São Paulo|\n",
            "|         Natal|\n",
            "|        Maceió|\n",
            "|        Recife|\n",
            "|        Manaus|\n",
            "|Rio de Janeiro|\n",
            "|  Porto Alegre|\n",
            "|       Vitória|\n",
            "+--------------+\n",
            "\n"
          ]
        }
      ]
    },
    {
      "cell_type": "markdown",
      "source": [
        "## 11. Filtre os usuários que moram no Brasil.\n"
      ],
      "metadata": {
        "id": "sf1Aq6nFieQI"
      }
    },
    {
      "cell_type": "code",
      "source": [
        "# Filtrar os usuários que moram no Brasil\n",
        "spark.sql(\"SELECT * FROM Users WHERE country = 'Brasil'\").show()\n"
      ],
      "metadata": {
        "colab": {
          "base_uri": "https://localhost:8080/"
        },
        "id": "ov45O4W-iiyL",
        "outputId": "2c9e0356-87d7-42b6-a050-626c88ab1277"
      },
      "execution_count": 40,
      "outputs": [
        {
          "output_type": "stream",
          "name": "stdout",
          "text": [
            "+-------+----------------+------------------+----------+--------------+-------+-------------------+\n",
            "|user_id|            name|             email|birth_date|          city|country|         created_at|\n",
            "+-------+----------------+------------------+----------+--------------+-------+-------------------+\n",
            "|     11|  Karen Oliveira|   karen@email.com|1997-08-15|         Natal| Brasil|2023-02-27 17:20:00|\n",
            "|     12| Lucas Fernandes|   lucas@email.com|1991-11-30|   João Pessoa| Brasil|2023-03-14 13:10:00|\n",
            "|     13|   Mariana Costa| mariana@email.com|1994-06-01|      São Luís| Brasil|2023-05-29 15:25:00|\n",
            "|     14|Nicolas Teixeira| nicolas@email.com|1990-09-10|  Campo Grande| Brasil|2023-06-18 10:40:00|\n",
            "|     15|  Olívia Almeida|  olivia@email.com|1998-04-05|      Teresina| Brasil|2023-07-07 16:55:00|\n",
            "|     16|  Paulo Henrique|   paulo@email.com|1992-03-14|       Aracaju| Brasil|2023-08-02 11:35:00|\n",
            "|     17|     Quezia Lima|  quezia@email.com|1995-07-27|        Maceió| Brasil|2023-09-11 13:00:00|\n",
            "|     18| Rafael Nogueira|  rafael@email.com|1989-10-18|         Belém| Brasil|2023-10-20 08:50:00|\n",
            "|     19|  Sabrina Farias| sabrina@email.com|1996-12-09|       Vitória| Brasil|2023-11-25 17:15:00|\n",
            "|     20| Thiago Monteiro|  thiago@email.com|1993-01-22|        Palmas| Brasil|2023-12-05 19:40:00|\n",
            "|      1|     Alice Souza|   alice@email.com|1995-04-23|     São Paulo| Brasil|2023-01-10 14:30:00|\n",
            "|      2|      Bruno Lima|   bruno@email.com|1990-06-17|Rio de Janeiro| Brasil|2022-11-05 09:15:00|\n",
            "|      3|    Carla Mendes|   carla@email.com|1998-09-12|Belo Horizonte| Brasil|2023-03-22 18:45:00|\n",
            "|      4|    Diego Santos|   diego@email.com|1992-07-08|      Curitiba| Brasil|2023-05-14 11:20:00|\n",
            "|      5| Eduarda Ribeiro| eduarda@email.com|2000-01-30|      Salvador| Brasil|2023-06-25 16:50:00|\n",
            "|      6|   Felipe Araújo|  felipe@email.com|1988-02-11|     Fortaleza| Brasil|2023-07-01 08:10:00|\n",
            "|      7|  Gabriela Rocha|gabriela@email.com|1996-03-19|        Recife| Brasil|2023-08-15 14:05:00|\n",
            "|      8|  Henrique Silva|henrique@email.com|1993-10-07|  Porto Alegre| Brasil|2022-12-12 10:00:00|\n",
            "|      9| Isabela Martins| isabela@email.com|1999-12-25| Florianópolis| Brasil|2023-09-03 12:45:00|\n",
            "|     10|      João Pedro|    joao@email.com|1985-05-20|        Manaus| Brasil|2023-04-10 09:30:00|\n",
            "+-------+----------------+------------------+----------+--------------+-------+-------------------+\n",
            "\n"
          ]
        }
      ]
    },
    {
      "cell_type": "markdown",
      "source": [
        "## 12. Exiba os posts criados após 01/02/2024."
      ],
      "metadata": {
        "id": "mSt7PVv5i-zi"
      }
    },
    {
      "cell_type": "code",
      "source": [
        "# Exibir posts criados após 01/02/2024\n",
        "spark.sql(\"SELECT * FROM Posts WHERE created_at > '2024-02-01'\").show()"
      ],
      "metadata": {
        "colab": {
          "base_uri": "https://localhost:8080/"
        },
        "id": "lWxrhp9WjGFZ",
        "outputId": "4d2cbb37-d54f-4724-d5b4-b67e23bef73d"
      },
      "execution_count": 41,
      "outputs": [
        {
          "output_type": "stream",
          "name": "stdout",
          "text": [
            "+-------+-------+--------------------+-------------------+\n",
            "|post_id|user_id|             content|         created_at|\n",
            "+-------+-------+--------------------+-------------------+\n",
            "|     11|     11|Quais são as melh...|2024-02-11 08:50:00|\n",
            "|     12|     12|Eu adoro trabalha...|2024-02-12 09:40:00|\n",
            "|     13|     13|Estou testando di...|2024-02-13 17:25:00|\n",
            "|     14|     14|Como vocês estrut...|2024-02-14 14:10:00|\n",
            "|     15|     15|Alguém já usou o ...|2024-02-15 10:00:00|\n",
            "|     16|     16|Tô experimentando...|2024-02-16 13:55:00|\n",
            "|     17|     17|Alguém tem experi...|2024-02-17 11:15:00|\n",
            "|     18|     18|Como vocês fazem ...|2024-02-18 16:45:00|\n",
            "|     19|     19|Recentemente li s...|2024-02-19 12:25:00|\n",
            "|     20|     20|Acho que estou co...|2024-02-20 09:30:00|\n",
            "|      1|      1|Adoro programar e...|2024-02-01 10:00:00|\n",
            "|      2|      2|Hoje foi um dia i...|2024-02-02 15:30:00|\n",
            "|      3|      3|Alguém tem recome...|2024-02-03 20:45:00|\n",
            "|      4|      4|Explorando novos ...|2024-02-04 13:10:00|\n",
            "|      5|      5|Quais são seus po...|2024-02-05 09:30:00|\n",
            "|      6|      6|O que vocês acham...|2024-02-06 11:45:00|\n",
            "|      7|      7|Estou aprendendo ...|2024-02-07 14:20:00|\n",
            "|      8|      8|Como vocês lidam ...|2024-02-08 18:30:00|\n",
            "|      9|      9|Alguém tem sugest...|2024-02-09 16:00:00|\n",
            "|     10|     10|Estou começando a...|2024-02-10 12:05:00|\n",
            "+-------+-------+--------------------+-------------------+\n",
            "\n"
          ]
        }
      ]
    },
    {
      "cell_type": "code",
      "source": [
        "# Exibir posts criados após 01/02/2024 em ordem crescente pela data de criação\n",
        "spark.sql(\"SELECT * FROM Posts WHERE created_at > '2024-02-01' ORDER BY created_at ASC\").show()\n"
      ],
      "metadata": {
        "colab": {
          "base_uri": "https://localhost:8080/"
        },
        "id": "HuqRWblMjSCF",
        "outputId": "b85e04fe-0995-4634-befd-524754fdda6b"
      },
      "execution_count": 42,
      "outputs": [
        {
          "output_type": "stream",
          "name": "stdout",
          "text": [
            "+-------+-------+--------------------+-------------------+\n",
            "|post_id|user_id|             content|         created_at|\n",
            "+-------+-------+--------------------+-------------------+\n",
            "|      1|      1|Adoro programar e...|2024-02-01 10:00:00|\n",
            "|      2|      2|Hoje foi um dia i...|2024-02-02 15:30:00|\n",
            "|      3|      3|Alguém tem recome...|2024-02-03 20:45:00|\n",
            "|      4|      4|Explorando novos ...|2024-02-04 13:10:00|\n",
            "|      5|      5|Quais são seus po...|2024-02-05 09:30:00|\n",
            "|      6|      6|O que vocês acham...|2024-02-06 11:45:00|\n",
            "|      7|      7|Estou aprendendo ...|2024-02-07 14:20:00|\n",
            "|      8|      8|Como vocês lidam ...|2024-02-08 18:30:00|\n",
            "|      9|      9|Alguém tem sugest...|2024-02-09 16:00:00|\n",
            "|     10|     10|Estou começando a...|2024-02-10 12:05:00|\n",
            "|     11|     11|Quais são as melh...|2024-02-11 08:50:00|\n",
            "|     12|     12|Eu adoro trabalha...|2024-02-12 09:40:00|\n",
            "|     13|     13|Estou testando di...|2024-02-13 17:25:00|\n",
            "|     14|     14|Como vocês estrut...|2024-02-14 14:10:00|\n",
            "|     15|     15|Alguém já usou o ...|2024-02-15 10:00:00|\n",
            "|     16|     16|Tô experimentando...|2024-02-16 13:55:00|\n",
            "|     17|     17|Alguém tem experi...|2024-02-17 11:15:00|\n",
            "|     18|     18|Como vocês fazem ...|2024-02-18 16:45:00|\n",
            "|     19|     19|Recentemente li s...|2024-02-19 12:25:00|\n",
            "|     20|     20|Acho que estou co...|2024-02-20 09:30:00|\n",
            "+-------+-------+--------------------+-------------------+\n",
            "\n"
          ]
        }
      ]
    },
    {
      "cell_type": "code",
      "source": [
        "# Exibir posts criados após 01/02/2024 em ordem decrescente pela data de criação\n",
        "spark.sql(\"SELECT * FROM Posts WHERE created_at > '2024-02-01' ORDER BY created_at DESC\").show()\n"
      ],
      "metadata": {
        "colab": {
          "base_uri": "https://localhost:8080/"
        },
        "id": "Y5vBMAYGjYec",
        "outputId": "653a57c3-47b4-45da-e741-bfb0048dac3c"
      },
      "execution_count": 44,
      "outputs": [
        {
          "output_type": "stream",
          "name": "stdout",
          "text": [
            "+-------+-------+--------------------+-------------------+\n",
            "|post_id|user_id|             content|         created_at|\n",
            "+-------+-------+--------------------+-------------------+\n",
            "|     20|     20|Acho que estou co...|2024-02-20 09:30:00|\n",
            "|     19|     19|Recentemente li s...|2024-02-19 12:25:00|\n",
            "|     18|     18|Como vocês fazem ...|2024-02-18 16:45:00|\n",
            "|     17|     17|Alguém tem experi...|2024-02-17 11:15:00|\n",
            "|     16|     16|Tô experimentando...|2024-02-16 13:55:00|\n",
            "|     15|     15|Alguém já usou o ...|2024-02-15 10:00:00|\n",
            "|     14|     14|Como vocês estrut...|2024-02-14 14:10:00|\n",
            "|     13|     13|Estou testando di...|2024-02-13 17:25:00|\n",
            "|     12|     12|Eu adoro trabalha...|2024-02-12 09:40:00|\n",
            "|     11|     11|Quais são as melh...|2024-02-11 08:50:00|\n",
            "|     10|     10|Estou começando a...|2024-02-10 12:05:00|\n",
            "|      9|      9|Alguém tem sugest...|2024-02-09 16:00:00|\n",
            "|      8|      8|Como vocês lidam ...|2024-02-08 18:30:00|\n",
            "|      7|      7|Estou aprendendo ...|2024-02-07 14:20:00|\n",
            "|      6|      6|O que vocês acham...|2024-02-06 11:45:00|\n",
            "|      5|      5|Quais são seus po...|2024-02-05 09:30:00|\n",
            "|      4|      4|Explorando novos ...|2024-02-04 13:10:00|\n",
            "|      3|      3|Alguém tem recome...|2024-02-03 20:45:00|\n",
            "|      2|      2|Hoje foi um dia i...|2024-02-02 15:30:00|\n",
            "|      1|      1|Adoro programar e...|2024-02-01 10:00:00|\n",
            "+-------+-------+--------------------+-------------------+\n",
            "\n"
          ]
        }
      ]
    },
    {
      "cell_type": "markdown",
      "source": [
        "## 13. Liste os comentários feitos pelo usuário de ID 1."
      ],
      "metadata": {
        "id": "bfDlg6PMkPKD"
      }
    },
    {
      "cell_type": "code",
      "source": [
        "# Listar os comentários feitos pelo usuário com ID 1\n",
        "spark.sql(\"SELECT * FROM Comments WHERE user_id = 1\").show()"
      ],
      "metadata": {
        "colab": {
          "base_uri": "https://localhost:8080/"
        },
        "id": "Y-wXSDcvjmxC",
        "outputId": "45b5009a-9804-435e-c453-4870f3c79c2b"
      },
      "execution_count": 45,
      "outputs": [
        {
          "output_type": "stream",
          "name": "stdout",
          "text": [
            "+----------+-------+-------+--------------------+-------------------+\n",
            "|comment_id|post_id|user_id|             content|         created_at|\n",
            "+----------+-------+-------+--------------------+-------------------+\n",
            "|         3|      3|      1|Depende do gênero...|2024-02-03 21:30:00|\n",
            "+----------+-------+-------+--------------------+-------------------+\n",
            "\n"
          ]
        }
      ]
    },
    {
      "cell_type": "markdown",
      "source": [
        "## 14. Liste os usuários ordenados pelo nome."
      ],
      "metadata": {
        "id": "yqHYlxpckYNV"
      }
    },
    {
      "cell_type": "code",
      "source": [
        "# Listar os usuários ordenados pelo nome em ordem alfabética\n",
        "spark.sql(\"SELECT * FROM Users ORDER BY name ASC\").show()"
      ],
      "metadata": {
        "colab": {
          "base_uri": "https://localhost:8080/"
        },
        "id": "DGnWz6ZSkcU8",
        "outputId": "a125a787-ed0a-45cf-c555-1fc4a5f52ab5"
      },
      "execution_count": 46,
      "outputs": [
        {
          "output_type": "stream",
          "name": "stdout",
          "text": [
            "+-------+----------------+------------------+----------+--------------+-------+-------------------+\n",
            "|user_id|            name|             email|birth_date|          city|country|         created_at|\n",
            "+-------+----------------+------------------+----------+--------------+-------+-------------------+\n",
            "|      1|     Alice Souza|   alice@email.com|1995-04-23|     São Paulo| Brasil|2023-01-10 14:30:00|\n",
            "|      2|      Bruno Lima|   bruno@email.com|1990-06-17|Rio de Janeiro| Brasil|2022-11-05 09:15:00|\n",
            "|      3|    Carla Mendes|   carla@email.com|1998-09-12|Belo Horizonte| Brasil|2023-03-22 18:45:00|\n",
            "|      4|    Diego Santos|   diego@email.com|1992-07-08|      Curitiba| Brasil|2023-05-14 11:20:00|\n",
            "|      5| Eduarda Ribeiro| eduarda@email.com|2000-01-30|      Salvador| Brasil|2023-06-25 16:50:00|\n",
            "|      6|   Felipe Araújo|  felipe@email.com|1988-02-11|     Fortaleza| Brasil|2023-07-01 08:10:00|\n",
            "|      7|  Gabriela Rocha|gabriela@email.com|1996-03-19|        Recife| Brasil|2023-08-15 14:05:00|\n",
            "|      8|  Henrique Silva|henrique@email.com|1993-10-07|  Porto Alegre| Brasil|2022-12-12 10:00:00|\n",
            "|      9| Isabela Martins| isabela@email.com|1999-12-25| Florianópolis| Brasil|2023-09-03 12:45:00|\n",
            "|     10|      João Pedro|    joao@email.com|1985-05-20|        Manaus| Brasil|2023-04-10 09:30:00|\n",
            "|     11|  Karen Oliveira|   karen@email.com|1997-08-15|         Natal| Brasil|2023-02-27 17:20:00|\n",
            "|     12| Lucas Fernandes|   lucas@email.com|1991-11-30|   João Pessoa| Brasil|2023-03-14 13:10:00|\n",
            "|     13|   Mariana Costa| mariana@email.com|1994-06-01|      São Luís| Brasil|2023-05-29 15:25:00|\n",
            "|     14|Nicolas Teixeira| nicolas@email.com|1990-09-10|  Campo Grande| Brasil|2023-06-18 10:40:00|\n",
            "|     15|  Olívia Almeida|  olivia@email.com|1998-04-05|      Teresina| Brasil|2023-07-07 16:55:00|\n",
            "|     16|  Paulo Henrique|   paulo@email.com|1992-03-14|       Aracaju| Brasil|2023-08-02 11:35:00|\n",
            "|     17|     Quezia Lima|  quezia@email.com|1995-07-27|        Maceió| Brasil|2023-09-11 13:00:00|\n",
            "|     18| Rafael Nogueira|  rafael@email.com|1989-10-18|         Belém| Brasil|2023-10-20 08:50:00|\n",
            "|     19|  Sabrina Farias| sabrina@email.com|1996-12-09|       Vitória| Brasil|2023-11-25 17:15:00|\n",
            "|     20| Thiago Monteiro|  thiago@email.com|1993-01-22|        Palmas| Brasil|2023-12-05 19:40:00|\n",
            "+-------+----------------+------------------+----------+--------------+-------+-------------------+\n",
            "\n"
          ]
        }
      ]
    },
    {
      "cell_type": "markdown",
      "source": [
        "## 15. Exiba os posts em ordem decrescente de data.\n"
      ],
      "metadata": {
        "id": "Je5buEFsuZUf"
      }
    },
    {
      "cell_type": "code",
      "source": [
        "# Exibir posts em ordem decrescente de data\n",
        "spark.sql(\"SELECT * FROM Posts ORDER BY created_at DESC\").show()"
      ],
      "metadata": {
        "colab": {
          "base_uri": "https://localhost:8080/"
        },
        "id": "hgAtykWeudaq",
        "outputId": "fe84b363-59b6-4016-d628-ac7317c049ed"
      },
      "execution_count": 47,
      "outputs": [
        {
          "output_type": "stream",
          "name": "stdout",
          "text": [
            "+-------+-------+--------------------+-------------------+\n",
            "|post_id|user_id|             content|         created_at|\n",
            "+-------+-------+--------------------+-------------------+\n",
            "|     20|     20|Acho que estou co...|2024-02-20 09:30:00|\n",
            "|     19|     19|Recentemente li s...|2024-02-19 12:25:00|\n",
            "|     18|     18|Como vocês fazem ...|2024-02-18 16:45:00|\n",
            "|     17|     17|Alguém tem experi...|2024-02-17 11:15:00|\n",
            "|     16|     16|Tô experimentando...|2024-02-16 13:55:00|\n",
            "|     15|     15|Alguém já usou o ...|2024-02-15 10:00:00|\n",
            "|     14|     14|Como vocês estrut...|2024-02-14 14:10:00|\n",
            "|     13|     13|Estou testando di...|2024-02-13 17:25:00|\n",
            "|     12|     12|Eu adoro trabalha...|2024-02-12 09:40:00|\n",
            "|     11|     11|Quais são as melh...|2024-02-11 08:50:00|\n",
            "|     10|     10|Estou começando a...|2024-02-10 12:05:00|\n",
            "|      9|      9|Alguém tem sugest...|2024-02-09 16:00:00|\n",
            "|      8|      8|Como vocês lidam ...|2024-02-08 18:30:00|\n",
            "|      7|      7|Estou aprendendo ...|2024-02-07 14:20:00|\n",
            "|      6|      6|O que vocês acham...|2024-02-06 11:45:00|\n",
            "|      5|      5|Quais são seus po...|2024-02-05 09:30:00|\n",
            "|      4|      4|Explorando novos ...|2024-02-04 13:10:00|\n",
            "|      3|      3|Alguém tem recome...|2024-02-03 20:45:00|\n",
            "|      2|      2|Hoje foi um dia i...|2024-02-02 15:30:00|\n",
            "|      1|      1|Adoro programar e...|2024-02-01 10:00:00|\n",
            "+-------+-------+--------------------+-------------------+\n",
            "\n"
          ]
        }
      ]
    },
    {
      "cell_type": "markdown",
      "source": [
        "## 16. Conte quantos usuários existem por cidade."
      ],
      "metadata": {
        "id": "MaZJRsj7uiG3"
      }
    },
    {
      "cell_type": "code",
      "source": [
        "# Contar quantos usuários existem por cidade\n",
        "spark.sql(\"SELECT city, COUNT(*) as user_count FROM Users GROUP BY city\").show()"
      ],
      "metadata": {
        "colab": {
          "base_uri": "https://localhost:8080/"
        },
        "id": "vpxwIHgDut0I",
        "outputId": "ac0b7c93-e124-46d0-dd29-7c1514049717"
      },
      "execution_count": 48,
      "outputs": [
        {
          "output_type": "stream",
          "name": "stdout",
          "text": [
            "+--------------+----------+\n",
            "|          city|user_count|\n",
            "+--------------+----------+\n",
            "|     Fortaleza|         1|\n",
            "|      Curitiba|         1|\n",
            "|  Campo Grande|         1|\n",
            "|      São Luís|         1|\n",
            "|        Palmas|         1|\n",
            "|       Aracaju|         1|\n",
            "|   João Pessoa|         1|\n",
            "|Belo Horizonte|         1|\n",
            "|         Belém|         1|\n",
            "| Florianópolis|         1|\n",
            "|      Teresina|         1|\n",
            "|      Salvador|         1|\n",
            "|     São Paulo|         1|\n",
            "|         Natal|         1|\n",
            "|        Maceió|         1|\n",
            "|        Recife|         1|\n",
            "|        Manaus|         1|\n",
            "|Rio de Janeiro|         1|\n",
            "|  Porto Alegre|         1|\n",
            "|       Vitória|         1|\n",
            "+--------------+----------+\n",
            "\n"
          ]
        }
      ]
    },
    {
      "cell_type": "markdown",
      "source": [
        "## 17. Qual a reação mais comum nos posts?"
      ],
      "metadata": {
        "id": "ZL3-Qxyuu1hJ"
      }
    },
    {
      "cell_type": "code",
      "source": [
        "# Contar as reações mais comuns nos posts\n",
        "spark.sql(\"\"\"\n",
        "SELECT reaction_type, COUNT(*) as reaction_count\n",
        "FROM Reactions\n",
        "GROUP BY reaction_type\n",
        "ORDER BY reaction_count DESC\n",
        "LIMIT 1\n",
        "\"\"\").show()"
      ],
      "metadata": {
        "colab": {
          "base_uri": "https://localhost:8080/"
        },
        "id": "WbFX4tRcu4zr",
        "outputId": "7183275e-d427-4cd0-8365-5f637cef9a95"
      },
      "execution_count": 49,
      "outputs": [
        {
          "output_type": "stream",
          "name": "stdout",
          "text": [
            "+-------------+--------------+\n",
            "|reaction_type|reaction_count|\n",
            "+-------------+--------------+\n",
            "|         Love|             5|\n",
            "+-------------+--------------+\n",
            "\n"
          ]
        }
      ]
    },
    {
      "cell_type": "markdown",
      "source": [
        "##18. Crie uma coluna que classifica os usuários como \"Adulto\" se tiverem mais de 18 anos e \"Menor\" caso contrário."
      ],
      "metadata": {
        "id": "9QKUjQB-w5ta"
      }
    },
    {
      "cell_type": "code",
      "source": [
        "# Criar uma coluna 'classificacao' com base na idade dos usuários\n",
        "spark.sql(\"\"\"\n",
        "SELECT user_id, name, birth_date,\n",
        "       CASE\n",
        "           WHEN DATEDIFF(current_date(), TO_DATE(birth_date)) / 365 > 18 THEN 'Adulto'\n",
        "           ELSE 'Menor'\n",
        "       END AS classificacao\n",
        "FROM Users\n",
        "\"\"\").show()\n"
      ],
      "metadata": {
        "colab": {
          "base_uri": "https://localhost:8080/"
        },
        "id": "NTzqS76bxGN1",
        "outputId": "a34a8b63-b753-4510-9c8a-72e2f329c3e4"
      },
      "execution_count": 50,
      "outputs": [
        {
          "output_type": "stream",
          "name": "stdout",
          "text": [
            "+-------+----------------+----------+-------------+\n",
            "|user_id|            name|birth_date|classificacao|\n",
            "+-------+----------------+----------+-------------+\n",
            "|     11|  Karen Oliveira|1997-08-15|       Adulto|\n",
            "|     12| Lucas Fernandes|1991-11-30|       Adulto|\n",
            "|     13|   Mariana Costa|1994-06-01|       Adulto|\n",
            "|     14|Nicolas Teixeira|1990-09-10|       Adulto|\n",
            "|     15|  Olívia Almeida|1998-04-05|       Adulto|\n",
            "|     16|  Paulo Henrique|1992-03-14|       Adulto|\n",
            "|     17|     Quezia Lima|1995-07-27|       Adulto|\n",
            "|     18| Rafael Nogueira|1989-10-18|       Adulto|\n",
            "|     19|  Sabrina Farias|1996-12-09|       Adulto|\n",
            "|     20| Thiago Monteiro|1993-01-22|       Adulto|\n",
            "|      1|     Alice Souza|1995-04-23|       Adulto|\n",
            "|      2|      Bruno Lima|1990-06-17|       Adulto|\n",
            "|      3|    Carla Mendes|1998-09-12|       Adulto|\n",
            "|      4|    Diego Santos|1992-07-08|       Adulto|\n",
            "|      5| Eduarda Ribeiro|2000-01-30|       Adulto|\n",
            "|      6|   Felipe Araújo|1988-02-11|       Adulto|\n",
            "|      7|  Gabriela Rocha|1996-03-19|       Adulto|\n",
            "|      8|  Henrique Silva|1993-10-07|       Adulto|\n",
            "|      9| Isabela Martins|1999-12-25|       Adulto|\n",
            "|     10|      João Pedro|1985-05-20|       Adulto|\n",
            "+-------+----------------+----------+-------------+\n",
            "\n"
          ]
        }
      ]
    },
    {
      "cell_type": "markdown",
      "source": [
        "## 19. Adicione uma coluna indicando se o post contém uma pergunta."
      ],
      "metadata": {
        "id": "Sv8xKvRoyyKl"
      }
    },
    {
      "cell_type": "code",
      "source": [
        "# Adicionar uma coluna indicando se o post contém uma pergunta\n",
        "spark.sql(\"\"\"\n",
        "SELECT post_id, user_id, content, created_at,\n",
        "       CASE\n",
        "           WHEN content LIKE '%?' THEN 'Sim'\n",
        "           ELSE 'Não'\n",
        "       END AS contains_question\n",
        "FROM Posts\n",
        "\"\"\").show()"
      ],
      "metadata": {
        "colab": {
          "base_uri": "https://localhost:8080/"
        },
        "id": "xVteWPTYy3wW",
        "outputId": "239690f4-ad1b-43e2-b621-d1eac1b01aa1"
      },
      "execution_count": 51,
      "outputs": [
        {
          "output_type": "stream",
          "name": "stdout",
          "text": [
            "+-------+-------+--------------------+-------------------+-----------------+\n",
            "|post_id|user_id|             content|         created_at|contains_question|\n",
            "+-------+-------+--------------------+-------------------+-----------------+\n",
            "|     11|     11|Quais são as melh...|2024-02-11 08:50:00|              Sim|\n",
            "|     12|     12|Eu adoro trabalha...|2024-02-12 09:40:00|              Não|\n",
            "|     13|     13|Estou testando di...|2024-02-13 17:25:00|              Sim|\n",
            "|     14|     14|Como vocês estrut...|2024-02-14 14:10:00|              Sim|\n",
            "|     15|     15|Alguém já usou o ...|2024-02-15 10:00:00|              Não|\n",
            "|     16|     16|Tô experimentando...|2024-02-16 13:55:00|              Não|\n",
            "|     17|     17|Alguém tem experi...|2024-02-17 11:15:00|              Não|\n",
            "|     18|     18|Como vocês fazem ...|2024-02-18 16:45:00|              Sim|\n",
            "|     19|     19|Recentemente li s...|2024-02-19 12:25:00|              Sim|\n",
            "|     20|     20|Acho que estou co...|2024-02-20 09:30:00|              Não|\n",
            "|      1|      1|Adoro programar e...|2024-02-01 10:00:00|              Não|\n",
            "|      2|      2|Hoje foi um dia i...|2024-02-02 15:30:00|              Não|\n",
            "|      3|      3|Alguém tem recome...|2024-02-03 20:45:00|              Sim|\n",
            "|      4|      4|Explorando novos ...|2024-02-04 13:10:00|              Não|\n",
            "|      5|      5|Quais são seus po...|2024-02-05 09:30:00|              Sim|\n",
            "|      6|      6|O que vocês acham...|2024-02-06 11:45:00|              Sim|\n",
            "|      7|      7|Estou aprendendo ...|2024-02-07 14:20:00|              Não|\n",
            "|      8|      8|Como vocês lidam ...|2024-02-08 18:30:00|              Sim|\n",
            "|      9|      9|Alguém tem sugest...|2024-02-09 16:00:00|              Sim|\n",
            "|     10|     10|Estou começando a...|2024-02-10 12:05:00|              Sim|\n",
            "+-------+-------+--------------------+-------------------+-----------------+\n",
            "\n"
          ]
        }
      ]
    },
    {
      "cell_type": "code",
      "source": [
        "# Adicionar uma coluna indicando se o post contém uma pergunta e ordenar em ordem crescente\n",
        "spark.sql(\"\"\"\n",
        "SELECT post_id, user_id, content, created_at,\n",
        "       CASE\n",
        "           WHEN content LIKE '%?' THEN 'Sim'\n",
        "           ELSE 'Não'\n",
        "       END AS contains_question\n",
        "FROM Posts\n",
        "ORDER BY created_at ASC\n",
        "\"\"\").show()"
      ],
      "metadata": {
        "colab": {
          "base_uri": "https://localhost:8080/"
        },
        "id": "PA-7RBXc1xhm",
        "outputId": "ab05fad7-e428-4418-f41e-e5419cd4bec1"
      },
      "execution_count": 52,
      "outputs": [
        {
          "output_type": "stream",
          "name": "stdout",
          "text": [
            "+-------+-------+--------------------+-------------------+-----------------+\n",
            "|post_id|user_id|             content|         created_at|contains_question|\n",
            "+-------+-------+--------------------+-------------------+-----------------+\n",
            "|      1|      1|Adoro programar e...|2024-02-01 10:00:00|              Não|\n",
            "|      2|      2|Hoje foi um dia i...|2024-02-02 15:30:00|              Não|\n",
            "|      3|      3|Alguém tem recome...|2024-02-03 20:45:00|              Sim|\n",
            "|      4|      4|Explorando novos ...|2024-02-04 13:10:00|              Não|\n",
            "|      5|      5|Quais são seus po...|2024-02-05 09:30:00|              Sim|\n",
            "|      6|      6|O que vocês acham...|2024-02-06 11:45:00|              Sim|\n",
            "|      7|      7|Estou aprendendo ...|2024-02-07 14:20:00|              Não|\n",
            "|      8|      8|Como vocês lidam ...|2024-02-08 18:30:00|              Sim|\n",
            "|      9|      9|Alguém tem sugest...|2024-02-09 16:00:00|              Sim|\n",
            "|     10|     10|Estou começando a...|2024-02-10 12:05:00|              Sim|\n",
            "|     11|     11|Quais são as melh...|2024-02-11 08:50:00|              Sim|\n",
            "|     12|     12|Eu adoro trabalha...|2024-02-12 09:40:00|              Não|\n",
            "|     13|     13|Estou testando di...|2024-02-13 17:25:00|              Sim|\n",
            "|     14|     14|Como vocês estrut...|2024-02-14 14:10:00|              Sim|\n",
            "|     15|     15|Alguém já usou o ...|2024-02-15 10:00:00|              Não|\n",
            "|     16|     16|Tô experimentando...|2024-02-16 13:55:00|              Não|\n",
            "|     17|     17|Alguém tem experi...|2024-02-17 11:15:00|              Não|\n",
            "|     18|     18|Como vocês fazem ...|2024-02-18 16:45:00|              Sim|\n",
            "|     19|     19|Recentemente li s...|2024-02-19 12:25:00|              Sim|\n",
            "|     20|     20|Acho que estou co...|2024-02-20 09:30:00|              Não|\n",
            "+-------+-------+--------------------+-------------------+-----------------+\n",
            "\n"
          ]
        }
      ]
    },
    {
      "cell_type": "code",
      "source": [
        "# Adicionar uma coluna indicando se o post contém uma pergunta e ordenar em ordem crescente\n",
        "spark.sql(\"\"\"\n",
        "SELECT post_id, user_id, content, created_at,\n",
        "       CASE\n",
        "           WHEN content LIKE '%?' THEN 'Sim'\n",
        "           ELSE 'Não'\n",
        "       END AS contains_question\n",
        "FROM Posts\n",
        "ORDER BY created_at DESC\n",
        "\"\"\").show()\n"
      ],
      "metadata": {
        "colab": {
          "base_uri": "https://localhost:8080/"
        },
        "id": "1c3O_Az010AF",
        "outputId": "c157aa3d-5356-4fd5-d815-b0f47102c984"
      },
      "execution_count": 53,
      "outputs": [
        {
          "output_type": "stream",
          "name": "stdout",
          "text": [
            "+-------+-------+--------------------+-------------------+-----------------+\n",
            "|post_id|user_id|             content|         created_at|contains_question|\n",
            "+-------+-------+--------------------+-------------------+-----------------+\n",
            "|     20|     20|Acho que estou co...|2024-02-20 09:30:00|              Não|\n",
            "|     19|     19|Recentemente li s...|2024-02-19 12:25:00|              Sim|\n",
            "|     18|     18|Como vocês fazem ...|2024-02-18 16:45:00|              Sim|\n",
            "|     17|     17|Alguém tem experi...|2024-02-17 11:15:00|              Não|\n",
            "|     16|     16|Tô experimentando...|2024-02-16 13:55:00|              Não|\n",
            "|     15|     15|Alguém já usou o ...|2024-02-15 10:00:00|              Não|\n",
            "|     14|     14|Como vocês estrut...|2024-02-14 14:10:00|              Sim|\n",
            "|     13|     13|Estou testando di...|2024-02-13 17:25:00|              Sim|\n",
            "|     12|     12|Eu adoro trabalha...|2024-02-12 09:40:00|              Não|\n",
            "|     11|     11|Quais são as melh...|2024-02-11 08:50:00|              Sim|\n",
            "|     10|     10|Estou começando a...|2024-02-10 12:05:00|              Sim|\n",
            "|      9|      9|Alguém tem sugest...|2024-02-09 16:00:00|              Sim|\n",
            "|      8|      8|Como vocês lidam ...|2024-02-08 18:30:00|              Sim|\n",
            "|      7|      7|Estou aprendendo ...|2024-02-07 14:20:00|              Não|\n",
            "|      6|      6|O que vocês acham...|2024-02-06 11:45:00|              Sim|\n",
            "|      5|      5|Quais são seus po...|2024-02-05 09:30:00|              Sim|\n",
            "|      4|      4|Explorando novos ...|2024-02-04 13:10:00|              Não|\n",
            "|      3|      3|Alguém tem recome...|2024-02-03 20:45:00|              Sim|\n",
            "|      2|      2|Hoje foi um dia i...|2024-02-02 15:30:00|              Não|\n",
            "|      1|      1|Adoro programar e...|2024-02-01 10:00:00|              Não|\n",
            "+-------+-------+--------------------+-------------------+-----------------+\n",
            "\n"
          ]
        }
      ]
    },
    {
      "cell_type": "markdown",
      "source": [
        "## 20. Converta a coluna created_at de string para Timestamp."
      ],
      "metadata": {
        "id": "ERpCjgwJ14Jw"
      }
    },
    {
      "cell_type": "code",
      "source": [
        "# Converter a coluna 'created_at' de string para Timestamp\n",
        "spark.sql(\"\"\"\n",
        "SELECT post_id, user_id, content,\n",
        "       CAST(created_at AS TIMESTAMP) AS created_at_converted\n",
        "FROM Posts\n",
        "\"\"\").show()"
      ],
      "metadata": {
        "colab": {
          "base_uri": "https://localhost:8080/"
        },
        "id": "63xxsmEj4HCL",
        "outputId": "a8666b6f-6d9b-4fa0-adb3-e6818f884816"
      },
      "execution_count": 54,
      "outputs": [
        {
          "output_type": "stream",
          "name": "stdout",
          "text": [
            "+-------+-------+--------------------+--------------------+\n",
            "|post_id|user_id|             content|created_at_converted|\n",
            "+-------+-------+--------------------+--------------------+\n",
            "|     11|     11|Quais são as melh...| 2024-02-11 08:50:00|\n",
            "|     12|     12|Eu adoro trabalha...| 2024-02-12 09:40:00|\n",
            "|     13|     13|Estou testando di...| 2024-02-13 17:25:00|\n",
            "|     14|     14|Como vocês estrut...| 2024-02-14 14:10:00|\n",
            "|     15|     15|Alguém já usou o ...| 2024-02-15 10:00:00|\n",
            "|     16|     16|Tô experimentando...| 2024-02-16 13:55:00|\n",
            "|     17|     17|Alguém tem experi...| 2024-02-17 11:15:00|\n",
            "|     18|     18|Como vocês fazem ...| 2024-02-18 16:45:00|\n",
            "|     19|     19|Recentemente li s...| 2024-02-19 12:25:00|\n",
            "|     20|     20|Acho que estou co...| 2024-02-20 09:30:00|\n",
            "|      1|      1|Adoro programar e...| 2024-02-01 10:00:00|\n",
            "|      2|      2|Hoje foi um dia i...| 2024-02-02 15:30:00|\n",
            "|      3|      3|Alguém tem recome...| 2024-02-03 20:45:00|\n",
            "|      4|      4|Explorando novos ...| 2024-02-04 13:10:00|\n",
            "|      5|      5|Quais são seus po...| 2024-02-05 09:30:00|\n",
            "|      6|      6|O que vocês acham...| 2024-02-06 11:45:00|\n",
            "|      7|      7|Estou aprendendo ...| 2024-02-07 14:20:00|\n",
            "|      8|      8|Como vocês lidam ...| 2024-02-08 18:30:00|\n",
            "|      9|      9|Alguém tem sugest...| 2024-02-09 16:00:00|\n",
            "|     10|     10|Estou começando a...| 2024-02-10 12:05:00|\n",
            "+-------+-------+--------------------+--------------------+\n",
            "\n"
          ]
        }
      ]
    },
    {
      "cell_type": "code",
      "source": [
        "# Caso o formato seja específico, use TO_TIMESTAMP com formato customizado\n",
        "spark.sql(\"\"\"\n",
        "SELECT post_id, user_id, content,\n",
        "       TO_TIMESTAMP(created_at, 'yyyy-MM-dd HH:mm:ss') AS created_at_converted\n",
        "FROM Posts\n",
        "\"\"\").show()"
      ],
      "metadata": {
        "colab": {
          "base_uri": "https://localhost:8080/"
        },
        "id": "HStrLbGN4I5r",
        "outputId": "9354040f-3f41-429d-ded3-6b7c0adf38e2"
      },
      "execution_count": 55,
      "outputs": [
        {
          "output_type": "stream",
          "name": "stdout",
          "text": [
            "+-------+-------+--------------------+--------------------+\n",
            "|post_id|user_id|             content|created_at_converted|\n",
            "+-------+-------+--------------------+--------------------+\n",
            "|     11|     11|Quais são as melh...| 2024-02-11 08:50:00|\n",
            "|     12|     12|Eu adoro trabalha...| 2024-02-12 09:40:00|\n",
            "|     13|     13|Estou testando di...| 2024-02-13 17:25:00|\n",
            "|     14|     14|Como vocês estrut...| 2024-02-14 14:10:00|\n",
            "|     15|     15|Alguém já usou o ...| 2024-02-15 10:00:00|\n",
            "|     16|     16|Tô experimentando...| 2024-02-16 13:55:00|\n",
            "|     17|     17|Alguém tem experi...| 2024-02-17 11:15:00|\n",
            "|     18|     18|Como vocês fazem ...| 2024-02-18 16:45:00|\n",
            "|     19|     19|Recentemente li s...| 2024-02-19 12:25:00|\n",
            "|     20|     20|Acho que estou co...| 2024-02-20 09:30:00|\n",
            "|      1|      1|Adoro programar e...| 2024-02-01 10:00:00|\n",
            "|      2|      2|Hoje foi um dia i...| 2024-02-02 15:30:00|\n",
            "|      3|      3|Alguém tem recome...| 2024-02-03 20:45:00|\n",
            "|      4|      4|Explorando novos ...| 2024-02-04 13:10:00|\n",
            "|      5|      5|Quais são seus po...| 2024-02-05 09:30:00|\n",
            "|      6|      6|O que vocês acham...| 2024-02-06 11:45:00|\n",
            "|      7|      7|Estou aprendendo ...| 2024-02-07 14:20:00|\n",
            "|      8|      8|Como vocês lidam ...| 2024-02-08 18:30:00|\n",
            "|      9|      9|Alguém tem sugest...| 2024-02-09 16:00:00|\n",
            "|     10|     10|Estou começando a...| 2024-02-10 12:05:00|\n",
            "+-------+-------+--------------------+--------------------+\n",
            "\n"
          ]
        }
      ]
    },
    {
      "cell_type": "markdown",
      "source": [
        "## 21. Crie uma nova coluna user_info combinando nome e cidade."
      ],
      "metadata": {
        "id": "xHqdTZr94O7U"
      }
    },
    {
      "cell_type": "code",
      "source": [
        "# Criar uma nova coluna 'user_info' combinando nome e cidade\n",
        "spark.sql(\"\"\"\n",
        "SELECT user_id, name, city,\n",
        "       CONCAT(name, ' - ', city) AS user_info\n",
        "FROM Users\n",
        "\"\"\").show()"
      ],
      "metadata": {
        "colab": {
          "base_uri": "https://localhost:8080/"
        },
        "id": "IX48WxHX4UQP",
        "outputId": "1c0424ad-4bcc-4b1f-bcec-e44d12e835da"
      },
      "execution_count": 56,
      "outputs": [
        {
          "output_type": "stream",
          "name": "stdout",
          "text": [
            "+-------+----------------+--------------+--------------------+\n",
            "|user_id|            name|          city|           user_info|\n",
            "+-------+----------------+--------------+--------------------+\n",
            "|     11|  Karen Oliveira|         Natal|Karen Oliveira - ...|\n",
            "|     12| Lucas Fernandes|   João Pessoa|Lucas Fernandes -...|\n",
            "|     13|   Mariana Costa|      São Luís|Mariana Costa - S...|\n",
            "|     14|Nicolas Teixeira|  Campo Grande|Nicolas Teixeira ...|\n",
            "|     15|  Olívia Almeida|      Teresina|Olívia Almeida - ...|\n",
            "|     16|  Paulo Henrique|       Aracaju|Paulo Henrique - ...|\n",
            "|     17|     Quezia Lima|        Maceió|Quezia Lima - Maceió|\n",
            "|     18| Rafael Nogueira|         Belém|Rafael Nogueira -...|\n",
            "|     19|  Sabrina Farias|       Vitória|Sabrina Farias - ...|\n",
            "|     20| Thiago Monteiro|        Palmas|Thiago Monteiro -...|\n",
            "|      1|     Alice Souza|     São Paulo|Alice Souza - São...|\n",
            "|      2|      Bruno Lima|Rio de Janeiro|Bruno Lima - Rio ...|\n",
            "|      3|    Carla Mendes|Belo Horizonte|Carla Mendes - Be...|\n",
            "|      4|    Diego Santos|      Curitiba|Diego Santos - Cu...|\n",
            "|      5| Eduarda Ribeiro|      Salvador|Eduarda Ribeiro -...|\n",
            "|      6|   Felipe Araújo|     Fortaleza|Felipe Araújo - F...|\n",
            "|      7|  Gabriela Rocha|        Recife|Gabriela Rocha - ...|\n",
            "|      8|  Henrique Silva|  Porto Alegre|Henrique Silva - ...|\n",
            "|      9| Isabela Martins| Florianópolis|Isabela Martins -...|\n",
            "|     10|      João Pedro|        Manaus| João Pedro - Manaus|\n",
            "+-------+----------------+--------------+--------------------+\n",
            "\n"
          ]
        }
      ]
    },
    {
      "cell_type": "markdown",
      "source": [
        "## 22. Liste os posts junto com os nomes dos autores."
      ],
      "metadata": {
        "id": "oSjtJqM37V-u"
      }
    },
    {
      "cell_type": "code",
      "source": [
        "# Listar os posts junto com os nomes dos autores\n",
        "spark.sql(\"\"\"\n",
        "SELECT p.post_id, p.content, u.name AS author_name\n",
        "FROM Posts p\n",
        "JOIN Users u ON p.user_id = u.user_id\n",
        "\"\"\").show()"
      ],
      "metadata": {
        "colab": {
          "base_uri": "https://localhost:8080/"
        },
        "id": "GqpKn0l07ocu",
        "outputId": "c1009ddf-bedc-480c-908b-d4ca421a011d"
      },
      "execution_count": 57,
      "outputs": [
        {
          "output_type": "stream",
          "name": "stdout",
          "text": [
            "+-------+--------------------+----------------+\n",
            "|post_id|             content|     author_name|\n",
            "+-------+--------------------+----------------+\n",
            "|     11|Quais são as melh...|  Karen Oliveira|\n",
            "|     12|Eu adoro trabalha...| Lucas Fernandes|\n",
            "|     13|Estou testando di...|   Mariana Costa|\n",
            "|     14|Como vocês estrut...|Nicolas Teixeira|\n",
            "|     15|Alguém já usou o ...|  Olívia Almeida|\n",
            "|     16|Tô experimentando...|  Paulo Henrique|\n",
            "|     17|Alguém tem experi...|     Quezia Lima|\n",
            "|     18|Como vocês fazem ...| Rafael Nogueira|\n",
            "|     19|Recentemente li s...|  Sabrina Farias|\n",
            "|     20|Acho que estou co...| Thiago Monteiro|\n",
            "|      1|Adoro programar e...|     Alice Souza|\n",
            "|      2|Hoje foi um dia i...|      Bruno Lima|\n",
            "|      3|Alguém tem recome...|    Carla Mendes|\n",
            "|      4|Explorando novos ...|    Diego Santos|\n",
            "|      5|Quais são seus po...| Eduarda Ribeiro|\n",
            "|      6|O que vocês acham...|   Felipe Araújo|\n",
            "|      7|Estou aprendendo ...|  Gabriela Rocha|\n",
            "|      8|Como vocês lidam ...|  Henrique Silva|\n",
            "|      9|Alguém tem sugest...| Isabela Martins|\n",
            "|     10|Estou começando a...|      João Pedro|\n",
            "+-------+--------------------+----------------+\n",
            "\n"
          ]
        }
      ]
    },
    {
      "cell_type": "markdown",
      "source": [
        "## 23. Liste os amigos de cada usuário.\n"
      ],
      "metadata": {
        "id": "29z7BvPF8NgR"
      }
    },
    {
      "cell_type": "code",
      "source": [
        "# Listar os amigos de cada usuário\n",
        "spark.sql(\"\"\"\n",
        "SELECT\n",
        "    u1.user_id AS user_id,\n",
        "    u1.name AS user_name,\n",
        "    u2.user_id AS friend_id,\n",
        "    u2.name AS friend_name\n",
        "FROM Friends f\n",
        "JOIN Users u1 ON f.user_id1 = u1.user_id\n",
        "JOIN Users u2 ON f.user_id2 = u2.user_id\n",
        "\"\"\").show()"
      ],
      "metadata": {
        "colab": {
          "base_uri": "https://localhost:8080/"
        },
        "id": "pYgtaqZF7xlZ",
        "outputId": "5662e6c1-b619-4311-f50d-5d9bd67bd2d1"
      },
      "execution_count": 60,
      "outputs": [
        {
          "output_type": "stream",
          "name": "stdout",
          "text": [
            "+-------+----------------+---------+----------------+\n",
            "|user_id|       user_name|friend_id|     friend_name|\n",
            "+-------+----------------+---------+----------------+\n",
            "|     11|  Karen Oliveira|       12| Lucas Fernandes|\n",
            "|     12| Lucas Fernandes|       13|   Mariana Costa|\n",
            "|     13|   Mariana Costa|       14|Nicolas Teixeira|\n",
            "|     14|Nicolas Teixeira|       15|  Olívia Almeida|\n",
            "|     15|  Olívia Almeida|       16|  Paulo Henrique|\n",
            "|     17|     Quezia Lima|       18| Rafael Nogueira|\n",
            "|     18| Rafael Nogueira|       19|  Sabrina Farias|\n",
            "|     19|  Sabrina Farias|       20| Thiago Monteiro|\n",
            "|      1|     Alice Souza|        3|    Carla Mendes|\n",
            "|      1|     Alice Souza|        2|      Bruno Lima|\n",
            "|      2|      Bruno Lima|        5| Eduarda Ribeiro|\n",
            "|      2|      Bruno Lima|        3|    Carla Mendes|\n",
            "|      4|    Diego Santos|        5| Eduarda Ribeiro|\n",
            "|      6|   Felipe Araújo|        7|  Gabriela Rocha|\n",
            "|      7|  Gabriela Rocha|        8|  Henrique Silva|\n",
            "|      8|  Henrique Silva|        9| Isabela Martins|\n",
            "|      9| Isabela Martins|       10|      João Pedro|\n",
            "|     10|      João Pedro|       11|  Karen Oliveira|\n",
            "+-------+----------------+---------+----------------+\n",
            "\n"
          ]
        }
      ]
    },
    {
      "cell_type": "markdown",
      "source": [
        "## 24. Quem são os usuários que comentaram no próprio post?"
      ],
      "metadata": {
        "id": "oqzG0l-D9kXa"
      }
    },
    {
      "cell_type": "code",
      "source": [
        "# Encontrar os usuários que comentaram em seus próprios posts\n",
        "spark.sql(\"\"\"\n",
        "SELECT c.comment_id, c.post_id, c.user_id, c.content\n",
        "FROM Comments c\n",
        "JOIN Posts p ON c.post_id = p.post_id\n",
        "WHERE c.user_id = p.user_id\n",
        "\"\"\").show()\n"
      ],
      "metadata": {
        "colab": {
          "base_uri": "https://localhost:8080/"
        },
        "id": "VxcixX0E-Tuk",
        "outputId": "c8b66741-40cc-4a18-dbc3-8ea057b81b02"
      },
      "execution_count": 59,
      "outputs": [
        {
          "output_type": "stream",
          "name": "stdout",
          "text": [
            "+----------+-------+-------+-------+\n",
            "|comment_id|post_id|user_id|content|\n",
            "+----------+-------+-------+-------+\n",
            "+----------+-------+-------+-------+\n",
            "\n"
          ]
        }
      ]
    },
    {
      "cell_type": "markdown",
      "source": [
        "## 25. Qual usuário recebeu mais curtidas?"
      ],
      "metadata": {
        "id": "MJHEoLOY-lMn"
      }
    },
    {
      "cell_type": "code",
      "source": [
        "# Contar as reações de tipo 'Like' e determinar o usuário com mais curtidas\n",
        "spark.sql(\"\"\"\n",
        "SELECT user_id, COUNT(*) AS like_count\n",
        "FROM Reactions\n",
        "WHERE reaction_type = 'Like'\n",
        "GROUP BY user_id\n",
        "ORDER BY like_count DESC\n",
        "LIMIT 1\n",
        "\"\"\").show()\n"
      ],
      "metadata": {
        "colab": {
          "base_uri": "https://localhost:8080/"
        },
        "id": "rrkfCbei-qn5",
        "outputId": "d09d0638-8d29-43cf-a40d-27d4189521cd"
      },
      "execution_count": 61,
      "outputs": [
        {
          "output_type": "stream",
          "name": "stdout",
          "text": [
            "+-------+----------+\n",
            "|user_id|like_count|\n",
            "+-------+----------+\n",
            "|     20|         1|\n",
            "+-------+----------+\n",
            "\n"
          ]
        }
      ]
    },
    {
      "cell_type": "markdown",
      "source": [
        "## 26. Quem tem mais amigos?"
      ],
      "metadata": {
        "id": "X6ju4vRz-72P"
      }
    },
    {
      "cell_type": "code",
      "source": [
        "# Contar o número de amigos para cada usuário e determinar quem tem mais amigos\n",
        "spark.sql(\"\"\"\n",
        "SELECT user_id, COUNT(*) AS friend_count\n",
        "FROM (\n",
        "    SELECT user_id1 AS user_id FROM Friends\n",
        "    UNION ALL\n",
        "    SELECT user_id2 AS user_id FROM Friends\n",
        ") AS all_friends\n",
        "GROUP BY user_id\n",
        "ORDER BY friend_count DESC\n",
        "LIMIT 1\n",
        "\"\"\").show()"
      ],
      "metadata": {
        "colab": {
          "base_uri": "https://localhost:8080/"
        },
        "id": "QSeUwQJA-6r9",
        "outputId": "5aa96c53-6d5b-4d1a-ce0d-f243fb8eed91"
      },
      "execution_count": 62,
      "outputs": [
        {
          "output_type": "stream",
          "name": "stdout",
          "text": [
            "+-------+------------+\n",
            "|user_id|friend_count|\n",
            "+-------+------------+\n",
            "|      2|           3|\n",
            "+-------+------------+\n",
            "\n"
          ]
        }
      ]
    },
    {
      "cell_type": "markdown",
      "source": [
        "## 27. Quantos posts cada usuário fez?"
      ],
      "metadata": {
        "id": "xACCx-za_Nk1"
      }
    },
    {
      "cell_type": "code",
      "source": [
        "# Contar o número de posts feitos por cada usuário\n",
        "spark.sql(\"\"\"\n",
        "SELECT user_id, COUNT(*) AS post_count\n",
        "FROM Posts\n",
        "GROUP BY user_id\n",
        "ORDER BY post_count DESC\n",
        "\"\"\").show()"
      ],
      "metadata": {
        "colab": {
          "base_uri": "https://localhost:8080/"
        },
        "id": "fq9L50dJ_SGj",
        "outputId": "4cd6bdb7-77e2-410e-c629-bd87656197da"
      },
      "execution_count": 63,
      "outputs": [
        {
          "output_type": "stream",
          "name": "stdout",
          "text": [
            "+-------+----------+\n",
            "|user_id|post_count|\n",
            "+-------+----------+\n",
            "|     12|         1|\n",
            "|      1|         1|\n",
            "|     16|         1|\n",
            "|      6|         1|\n",
            "|     13|         1|\n",
            "|      3|         1|\n",
            "|     20|         1|\n",
            "|      5|         1|\n",
            "|     19|         1|\n",
            "|     15|         1|\n",
            "|     17|         1|\n",
            "|      9|         1|\n",
            "|      4|         1|\n",
            "|      8|         1|\n",
            "|      7|         1|\n",
            "|     11|         1|\n",
            "|     10|         1|\n",
            "|      2|         1|\n",
            "|     14|         1|\n",
            "|     18|         1|\n",
            "+-------+----------+\n",
            "\n"
          ]
        }
      ]
    },
    {
      "cell_type": "markdown",
      "source": [
        "## 28. Quem fez o maior número de comentários?"
      ],
      "metadata": {
        "id": "OoLhBq8E_pz8"
      }
    },
    {
      "cell_type": "code",
      "source": [
        "# Contar o número de comentários feitos por cada usuário e determinar quem fez o maior número\n",
        "spark.sql(\"\"\"\n",
        "SELECT user_id, COUNT(*) AS comment_count\n",
        "FROM Comments\n",
        "GROUP BY user_id\n",
        "ORDER BY comment_count DESC\n",
        "LIMIT 1\n",
        "\"\"\").show()\n"
      ],
      "metadata": {
        "colab": {
          "base_uri": "https://localhost:8080/"
        },
        "id": "OkRDBMoL_ySE",
        "outputId": "600184d2-7285-4212-907d-b671ccf8b378"
      },
      "execution_count": 64,
      "outputs": [
        {
          "output_type": "stream",
          "name": "stdout",
          "text": [
            "+-------+-------------+\n",
            "|user_id|comment_count|\n",
            "+-------+-------------+\n",
            "|     12|            1|\n",
            "+-------+-------------+\n",
            "\n"
          ]
        }
      ]
    },
    {
      "cell_type": "markdown",
      "source": [
        "## 29. Qual o tempo médio entre a criação de um usuário e seu primeiro post?\n",
        "FUNÇÕES DE DATA\n"
      ],
      "metadata": {
        "id": "uhXer-E_BDxr"
      }
    },
    {
      "cell_type": "code",
      "source": [
        "# Calcular o tempo médio entre a criação de um usuário e seu primeiro post\n",
        "spark.sql(\"\"\"\n",
        "WITH FirstPost AS (\n",
        "    SELECT user_id, MIN(created_at) AS first_post_date\n",
        "    FROM Posts\n",
        "    GROUP BY user_id\n",
        "),\n",
        "UserCreation AS (\n",
        "    SELECT user_id, created_at AS user_creation_date\n",
        "    FROM Users\n",
        ")\n",
        "SELECT AVG(DATEDIFF(fp.first_post_date, uc.user_creation_date)) AS avg_time_to_first_post\n",
        "FROM FirstPost fp\n",
        "JOIN UserCreation uc ON fp.user_id = uc.user_id\n",
        "\"\"\").show()"
      ],
      "metadata": {
        "colab": {
          "base_uri": "https://localhost:8080/"
        },
        "id": "ic3_8ijhBRCZ",
        "outputId": "f6165753-beb7-4a0e-9880-29cf9ba4d16b"
      },
      "execution_count": 65,
      "outputs": [
        {
          "output_type": "stream",
          "name": "stdout",
          "text": [
            "+----------------------+\n",
            "|avg_time_to_first_post|\n",
            "+----------------------+\n",
            "|                249.15|\n",
            "+----------------------+\n",
            "\n"
          ]
        }
      ]
    },
    {
      "cell_type": "markdown",
      "source": [
        "## 30. Quantos posts foram criados por mês?"
      ],
      "metadata": {
        "id": "niMHW0uABfwF"
      }
    },
    {
      "cell_type": "code",
      "source": [
        "# Contar quantos posts foram criados por mês\n",
        "spark.sql(\"\"\"\n",
        "SELECT YEAR(created_at) AS year, MONTH(created_at) AS month, COUNT(*) AS post_count\n",
        "FROM Posts\n",
        "GROUP BY YEAR(created_at), MONTH(created_at)\n",
        "ORDER BY year DESC, month DESC\n",
        "\"\"\").show()"
      ],
      "metadata": {
        "colab": {
          "base_uri": "https://localhost:8080/"
        },
        "id": "i_HCO2WVBmN9",
        "outputId": "5dcfb123-5344-4a90-a612-c6fad8e0b94b"
      },
      "execution_count": 66,
      "outputs": [
        {
          "output_type": "stream",
          "name": "stdout",
          "text": [
            "+----+-----+----------+\n",
            "|year|month|post_count|\n",
            "+----+-----+----------+\n",
            "|2024|    2|        20|\n",
            "+----+-----+----------+\n",
            "\n"
          ]
        }
      ]
    },
    {
      "cell_type": "markdown",
      "source": [
        "## 31. Quantos usuários se cadastraram no último ano?"
      ],
      "metadata": {
        "id": "AiccX8tzByhn"
      }
    },
    {
      "cell_type": "code",
      "source": [
        "# Contar quantos usuários se cadastraram no último ano\n",
        "spark.sql(\"\"\"\n",
        "SELECT COUNT(*) AS users_registered_last_year\n",
        "FROM Users\n",
        "WHERE YEAR(created_at) = YEAR(CURRENT_DATE()) - 1\n",
        "\"\"\").show()"
      ],
      "metadata": {
        "colab": {
          "base_uri": "https://localhost:8080/"
        },
        "id": "aZ9s_dUZB2k6",
        "outputId": "5c53f939-0e31-40ca-cffb-64b0d710e160"
      },
      "execution_count": 67,
      "outputs": [
        {
          "output_type": "stream",
          "name": "stdout",
          "text": [
            "+--------------------------+\n",
            "|users_registered_last_year|\n",
            "+--------------------------+\n",
            "|                         0|\n",
            "+--------------------------+\n",
            "\n"
          ]
        }
      ]
    },
    {
      "cell_type": "markdown",
      "source": [
        "## 32. Qual é a idade média dos usuários?"
      ],
      "metadata": {
        "id": "kSx5AW9RCmJ1"
      }
    },
    {
      "cell_type": "code",
      "source": [
        "# Calcular a idade média dos usuários\n",
        "spark.sql(\"\"\"\n",
        "SELECT AVG(DATEDIFF(CURRENT_DATE(), TO_DATE(birth_date)) / 365.25) AS avg_age\n",
        "FROM Users\n",
        "\"\"\").show()"
      ],
      "metadata": {
        "colab": {
          "base_uri": "https://localhost:8080/"
        },
        "id": "Soqr52j9Dtr7",
        "outputId": "0d6bf13c-f890-4723-a7e7-0e9180f8f3c5"
      },
      "execution_count": 68,
      "outputs": [
        {
          "output_type": "stream",
          "name": "stdout",
          "text": [
            "+-------------+\n",
            "|      avg_age|\n",
            "+-------------+\n",
            "|31.1997262000|\n",
            "+-------------+\n",
            "\n"
          ]
        }
      ]
    },
    {
      "cell_type": "markdown",
      "source": [
        "## 33. Liste os usuários cujo nome começa com \"A\".\n"
      ],
      "metadata": {
        "id": "wbI0JgabDvYQ"
      }
    },
    {
      "cell_type": "code",
      "source": [
        "# Listar os usuários cujo nome começa com \"A\"\n",
        "spark.sql(\"SELECT * FROM Users WHERE name LIKE 'A%'\").show()"
      ],
      "metadata": {
        "colab": {
          "base_uri": "https://localhost:8080/"
        },
        "id": "HGosCz4qExR5",
        "outputId": "fc028710-0894-4284-c6e9-85c2aa3425ae"
      },
      "execution_count": 69,
      "outputs": [
        {
          "output_type": "stream",
          "name": "stdout",
          "text": [
            "+-------+-----------+---------------+----------+---------+-------+-------------------+\n",
            "|user_id|       name|          email|birth_date|     city|country|         created_at|\n",
            "+-------+-----------+---------------+----------+---------+-------+-------------------+\n",
            "|      1|Alice Souza|alice@email.com|1995-04-23|São Paulo| Brasil|2023-01-10 14:30:00|\n",
            "+-------+-----------+---------------+----------+---------+-------+-------------------+\n",
            "\n"
          ]
        }
      ]
    },
    {
      "cell_type": "markdown",
      "source": [
        "## 34. Encontre todos os posts que mencionam \"PySpark\"."
      ],
      "metadata": {
        "id": "7AvoQxdME0ZY"
      }
    },
    {
      "cell_type": "code",
      "source": [
        "# Encontrar posts que mencionam \"PySpark\"\n",
        "spark.sql(\"SELECT * FROM Posts WHERE content LIKE '%PySpark%'\").show()"
      ],
      "metadata": {
        "colab": {
          "base_uri": "https://localhost:8080/"
        },
        "id": "CrbQJb7MEz1o",
        "outputId": "cf3c3bbc-8def-4436-b92d-579fc5e31421"
      },
      "execution_count": 70,
      "outputs": [
        {
          "output_type": "stream",
          "name": "stdout",
          "text": [
            "+-------+-------+--------------------+-------------------+\n",
            "|post_id|user_id|             content|         created_at|\n",
            "+-------+-------+--------------------+-------------------+\n",
            "|      1|      1|Adoro programar e...|2024-02-01 10:00:00|\n",
            "|      7|      7|Estou aprendendo ...|2024-02-07 14:20:00|\n",
            "+-------+-------+--------------------+-------------------+\n",
            "\n"
          ]
        }
      ]
    },
    {
      "cell_type": "markdown",
      "source": [
        "## 35. Liste os e-mails que pertencem ao domínio \"email.com\".\n"
      ],
      "metadata": {
        "id": "fda63cjaFbQq"
      }
    },
    {
      "cell_type": "code",
      "source": [
        "# Listar e-mails que pertencem ao domínio \"email.com\"\n",
        "spark.sql(\"SELECT email FROM Users WHERE email LIKE '%@email.com'\").show()"
      ],
      "metadata": {
        "colab": {
          "base_uri": "https://localhost:8080/"
        },
        "id": "mf-JMZOiFoue",
        "outputId": "03e35a44-7785-473f-98e7-38ce2394232a"
      },
      "execution_count": 71,
      "outputs": [
        {
          "output_type": "stream",
          "name": "stdout",
          "text": [
            "+------------------+\n",
            "|             email|\n",
            "+------------------+\n",
            "|   karen@email.com|\n",
            "|   lucas@email.com|\n",
            "| mariana@email.com|\n",
            "| nicolas@email.com|\n",
            "|  olivia@email.com|\n",
            "|   paulo@email.com|\n",
            "|  quezia@email.com|\n",
            "|  rafael@email.com|\n",
            "| sabrina@email.com|\n",
            "|  thiago@email.com|\n",
            "|   alice@email.com|\n",
            "|   bruno@email.com|\n",
            "|   carla@email.com|\n",
            "|   diego@email.com|\n",
            "| eduarda@email.com|\n",
            "|  felipe@email.com|\n",
            "|gabriela@email.com|\n",
            "|henrique@email.com|\n",
            "| isabela@email.com|\n",
            "|    joao@email.com|\n",
            "+------------------+\n",
            "\n"
          ]
        }
      ]
    },
    {
      "cell_type": "markdown",
      "source": [
        "## 36. Qual usuário fez mais posts no mesmo dia?"
      ],
      "metadata": {
        "id": "4XCCH_N2GnZ_"
      }
    },
    {
      "cell_type": "code",
      "source": [
        "# Encontrar o usuário que fez mais posts no mesmo dia\n",
        "spark.sql(\"\"\"\n",
        "SELECT user_id, DATE(created_at) AS post_date, COUNT(*) AS post_count\n",
        "FROM Posts\n",
        "GROUP BY user_id, post_date\n",
        "ORDER BY post_count DESC\n",
        "LIMIT 1\n",
        "\"\"\").show()"
      ],
      "metadata": {
        "colab": {
          "base_uri": "https://localhost:8080/"
        },
        "id": "qPQN8s7JG22L",
        "outputId": "fa344a2a-2305-49cd-9a05-6ec60c1e4081"
      },
      "execution_count": 72,
      "outputs": [
        {
          "output_type": "stream",
          "name": "stdout",
          "text": [
            "+-------+----------+----------+\n",
            "|user_id| post_date|post_count|\n",
            "+-------+----------+----------+\n",
            "|      9|2024-02-09|         1|\n",
            "+-------+----------+----------+\n",
            "\n"
          ]
        }
      ]
    },
    {
      "cell_type": "markdown",
      "source": [
        "## 37. Qual post recebeu mais reações?"
      ],
      "metadata": {
        "id": "sIrsTLacIiDM"
      }
    },
    {
      "cell_type": "code",
      "source": [
        "# Encontrar o post que recebeu mais reações\n",
        "spark.sql(\"\"\"\n",
        "SELECT post_id, COUNT(*) AS reaction_count\n",
        "FROM Reactions\n",
        "GROUP BY post_id\n",
        "ORDER BY reaction_count DESC\n",
        "LIMIT 1\n",
        "\"\"\").show()"
      ],
      "metadata": {
        "colab": {
          "base_uri": "https://localhost:8080/"
        },
        "id": "rbBDgkDSIlQA",
        "outputId": "848c0aa9-1424-4d73-ed8b-371d5e3df812"
      },
      "execution_count": 73,
      "outputs": [
        {
          "output_type": "stream",
          "name": "stdout",
          "text": [
            "+-------+--------------+\n",
            "|post_id|reaction_count|\n",
            "+-------+--------------+\n",
            "|     12|             1|\n",
            "+-------+--------------+\n",
            "\n"
          ]
        }
      ]
    },
    {
      "cell_type": "markdown",
      "source": [
        "## 38. Qual usuário recebeu mais \"Love\" em seus posts?"
      ],
      "metadata": {
        "id": "gZd4TRARIwAy"
      }
    },
    {
      "cell_type": "code",
      "source": [
        "# Encontrar o usuário que recebeu mais reações de \"Love\" em seus posts\n",
        "spark.sql(\"\"\"\n",
        "SELECT p.user_id, COUNT(*) AS love_count\n",
        "FROM Reactions r\n",
        "JOIN Posts p ON r.post_id = p.post_id\n",
        "WHERE r.reaction_type = 'Love'\n",
        "GROUP BY p.user_id\n",
        "ORDER BY love_count DESC\n",
        "LIMIT 1\n",
        "\"\"\").show()"
      ],
      "metadata": {
        "colab": {
          "base_uri": "https://localhost:8080/"
        },
        "id": "ZCMI4RI4MvKu",
        "outputId": "368fa558-575b-41dd-85dc-d43764f1aa08"
      },
      "execution_count": 74,
      "outputs": [
        {
          "output_type": "stream",
          "name": "stdout",
          "text": [
            "+-------+----------+\n",
            "|user_id|love_count|\n",
            "+-------+----------+\n",
            "|     16|         1|\n",
            "+-------+----------+\n",
            "\n"
          ]
        }
      ]
    },
    {
      "cell_type": "markdown",
      "source": [
        "## 39. Quantos amigos cada usuário tem?"
      ],
      "metadata": {
        "id": "IYGO0zE5M21l"
      }
    },
    {
      "cell_type": "code",
      "source": [
        "# Contar quantos amigos cada usuário tem\n",
        "spark.sql(\"\"\"\n",
        "SELECT user_id, COUNT(*) AS friend_count\n",
        "FROM (\n",
        "    SELECT user_id1 AS user_id FROM Friends\n",
        "    UNION ALL\n",
        "    SELECT user_id2 AS user_id FROM Friends\n",
        ") AS all_friends\n",
        "GROUP BY user_id\n",
        "ORDER BY friend_count DESC\n",
        "\"\"\").show()"
      ],
      "metadata": {
        "colab": {
          "base_uri": "https://localhost:8080/"
        },
        "id": "WF1aP2mmM9Md",
        "outputId": "bad9ce49-a1f7-465f-d15a-077f9d1b2d82"
      },
      "execution_count": 75,
      "outputs": [
        {
          "output_type": "stream",
          "name": "stdout",
          "text": [
            "+-------+------------+\n",
            "|user_id|friend_count|\n",
            "+-------+------------+\n",
            "|      2|           3|\n",
            "|     18|           2|\n",
            "|     13|           2|\n",
            "|     12|           2|\n",
            "|      3|           2|\n",
            "|     20|           2|\n",
            "|      5|           2|\n",
            "|     15|           2|\n",
            "|     19|           2|\n",
            "|      1|           2|\n",
            "|      9|           2|\n",
            "|      8|           2|\n",
            "|      7|           2|\n",
            "|     21|           2|\n",
            "|     10|           2|\n",
            "|     11|           2|\n",
            "|     14|           2|\n",
            "|      6|           1|\n",
            "|     16|           1|\n",
            "|      4|           1|\n",
            "+-------+------------+\n",
            "only showing top 20 rows\n",
            "\n"
          ]
        }
      ]
    },
    {
      "cell_type": "markdown",
      "source": [
        "## 40. Quem tem mais amigos em comum com outro usuário?"
      ],
      "metadata": {
        "id": "kB-kj5zeP_-e"
      }
    },
    {
      "cell_type": "code",
      "source": [
        "# Encontrar quem tem mais amigos em comum com outro usuário\n",
        "spark.sql(\"\"\"\n",
        "WITH CommonFriends AS (\n",
        "    SELECT f1.user_id1 AS user1, f1.user_id2 AS friend1, f2.user_id2 AS friend2\n",
        "    FROM Friends f1\n",
        "    JOIN Friends f2 ON f1.user_id2 = f2.user_id1\n",
        "    WHERE f1.user_id1 < f2.user_id1  -- Evita duplicatas de amizade (A, B) e (B, A)\n",
        ")\n",
        "SELECT user1, friend1, friend2, COUNT(*) AS common_friends_count\n",
        "FROM CommonFriends\n",
        "GROUP BY user1, friend1, friend2\n",
        "ORDER BY common_friends_count DESC\n",
        "LIMIT 1\n",
        "\"\"\").show()\n"
      ],
      "metadata": {
        "colab": {
          "base_uri": "https://localhost:8080/"
        },
        "id": "maR9q8hyQETG",
        "outputId": "48e08e21-25e7-4d8c-f716-33eb0c445fbd"
      },
      "execution_count": 76,
      "outputs": [
        {
          "output_type": "stream",
          "name": "stdout",
          "text": [
            "+-----+-------+-------+--------------------+\n",
            "|user1|friend1|friend2|common_friends_count|\n",
            "+-----+-------+-------+--------------------+\n",
            "|    8|      9|     10|                   1|\n",
            "+-----+-------+-------+--------------------+\n",
            "\n"
          ]
        }
      ]
    },
    {
      "cell_type": "markdown",
      "source": [
        "## 41. Encontre pares de usuários que são amigos entre si."
      ],
      "metadata": {
        "id": "8MlHMPZGTs6b"
      }
    },
    {
      "cell_type": "code",
      "source": [
        "# Encontrar pares de usuários que são amigos entre si\n",
        "spark.sql(\"\"\"\n",
        "SELECT\n",
        "    LEAST(f1.user_id1, f1.user_id2) AS user1,\n",
        "    GREATEST(f1.user_id1, f1.user_id2) AS user2\n",
        "FROM Friends f1\n",
        "JOIN Friends f2\n",
        "    ON f1.user_id1 = f2.user_id2\n",
        "    AND f1.user_id2 = f2.user_id1\n",
        "\"\"\").show()\n",
        "\n"
      ],
      "metadata": {
        "colab": {
          "base_uri": "https://localhost:8080/"
        },
        "id": "EyP7CDdZTu0E",
        "outputId": "73eb8f13-eea5-4326-f85d-015a53462b07"
      },
      "execution_count": 78,
      "outputs": [
        {
          "output_type": "stream",
          "name": "stdout",
          "text": [
            "+-----+-----+\n",
            "|user1|user2|\n",
            "+-----+-----+\n",
            "+-----+-----+\n",
            "\n"
          ]
        }
      ]
    },
    {
      "cell_type": "markdown",
      "source": [
        "## 42. Liste os usuários que não postaram nada.\n"
      ],
      "metadata": {
        "id": "hJ8CTlI1UCYM"
      }
    },
    {
      "cell_type": "code",
      "source": [
        "# Listar usuários que não postaram nada\n",
        "spark.sql(\"\"\"\n",
        "SELECT u.user_id, u.name\n",
        "FROM Users u\n",
        "LEFT JOIN Posts p ON u.user_id = p.user_id\n",
        "WHERE p.user_id IS NULL\n",
        "\"\"\").show()"
      ],
      "metadata": {
        "colab": {
          "base_uri": "https://localhost:8080/"
        },
        "id": "rTFTBR3xUGpG",
        "outputId": "21c80a96-e2fc-47b7-b2d7-f46319bc1743"
      },
      "execution_count": 79,
      "outputs": [
        {
          "output_type": "stream",
          "name": "stdout",
          "text": [
            "+-------+----+\n",
            "|user_id|name|\n",
            "+-------+----+\n",
            "+-------+----+\n",
            "\n"
          ]
        }
      ]
    },
    {
      "cell_type": "markdown",
      "source": [
        "## 43. Liste os usuários que nunca receberam curtidas."
      ],
      "metadata": {
        "id": "ZnXQLyPOU2TF"
      }
    },
    {
      "cell_type": "code",
      "source": [
        "# Listar usuários que nunca receberam curtidas (\"Like\")\n",
        "spark.sql(\"\"\"\n",
        "SELECT u.user_id, u.name\n",
        "FROM Users u\n",
        "LEFT JOIN Posts p ON u.user_id = p.user_id\n",
        "LEFT JOIN Reactions r ON p.post_id = r.post_id AND r.reaction_type = 'Like'\n",
        "WHERE r.reaction_type IS NULL\n",
        "\"\"\").show()"
      ],
      "metadata": {
        "colab": {
          "base_uri": "https://localhost:8080/"
        },
        "id": "ZsqVOr2UU69U",
        "outputId": "1d8a6e94-d463-411e-9252-4a9e17ca85b2"
      },
      "execution_count": 80,
      "outputs": [
        {
          "output_type": "stream",
          "name": "stdout",
          "text": [
            "+-------+----------------+\n",
            "|user_id|            name|\n",
            "+-------+----------------+\n",
            "|     11|  Karen Oliveira|\n",
            "|     12| Lucas Fernandes|\n",
            "|     13|   Mariana Costa|\n",
            "|     14|Nicolas Teixeira|\n",
            "|     15|  Olívia Almeida|\n",
            "|     16|  Paulo Henrique|\n",
            "|     18| Rafael Nogueira|\n",
            "|     20| Thiago Monteiro|\n",
            "|      2|      Bruno Lima|\n",
            "|      3|    Carla Mendes|\n",
            "|      4|    Diego Santos|\n",
            "|      5| Eduarda Ribeiro|\n",
            "|      7|  Gabriela Rocha|\n",
            "|      8|  Henrique Silva|\n",
            "|      9| Isabela Martins|\n",
            "+-------+----------------+\n",
            "\n"
          ]
        }
      ]
    },
    {
      "cell_type": "markdown",
      "source": [
        "## 44. Qual porcentagem de posts recebeu ao menos um comentário?"
      ],
      "metadata": {
        "id": "s5loCU9kVKL7"
      }
    },
    {
      "cell_type": "code",
      "source": [
        "# Calcular a porcentagem de posts que receberam ao menos um comentário\n",
        "spark.sql(\"\"\"\n",
        "WITH PostComments AS (\n",
        "    SELECT DISTINCT post_id\n",
        "    FROM Comments\n",
        ")\n",
        "SELECT\n",
        "    (COUNT(pc.post_id) / (SELECT COUNT(*) FROM Posts)) * 100 AS percentage\n",
        "FROM PostComments pc\n",
        "\"\"\").show()"
      ],
      "metadata": {
        "colab": {
          "base_uri": "https://localhost:8080/"
        },
        "id": "mi1Og3gMVN27",
        "outputId": "81718119-995d-4e22-9543-0a96a2b8cb37"
      },
      "execution_count": 81,
      "outputs": [
        {
          "output_type": "stream",
          "name": "stdout",
          "text": [
            "+----------+\n",
            "|percentage|\n",
            "+----------+\n",
            "|     100.0|\n",
            "+----------+\n",
            "\n"
          ]
        }
      ]
    },
    {
      "cell_type": "code",
      "source": [
        "# Calcular a porcentagem de posts que receberam mais de um comentário\n",
        "spark.sql(\"\"\"\n",
        "WITH PostCommentCounts AS (\n",
        "    SELECT post_id, COUNT(*) AS comment_count\n",
        "    FROM Comments\n",
        "    GROUP BY post_id\n",
        ")\n",
        "SELECT\n",
        "    (COUNT(pc.post_id) / (SELECT COUNT(*) FROM Posts)) * 100 AS percentage\n",
        "FROM PostCommentCounts pc\n",
        "WHERE pc.comment_count > 1\n",
        "\"\"\").show()\n"
      ],
      "metadata": {
        "colab": {
          "base_uri": "https://localhost:8080/"
        },
        "id": "yWYhhitXVhd9",
        "outputId": "a4a22e55-48f9-4b4f-d4d8-9839154159f2"
      },
      "execution_count": 82,
      "outputs": [
        {
          "output_type": "stream",
          "name": "stdout",
          "text": [
            "+----------+\n",
            "|percentage|\n",
            "+----------+\n",
            "|       0.0|\n",
            "+----------+\n",
            "\n"
          ]
        }
      ]
    },
    {
      "cell_type": "markdown",
      "source": [
        "## 45. Qual foi o post mais antigo da plataforma?"
      ],
      "metadata": {
        "id": "2fssnFmWVOMK"
      }
    },
    {
      "cell_type": "code",
      "source": [
        "# Encontrar o post mais antigo\n",
        "spark.sql(\"\"\"\n",
        "SELECT post_id, user_id, content, created_at\n",
        "FROM Posts\n",
        "ORDER BY created_at ASC\n",
        "LIMIT 1\n",
        "\"\"\").show()\n"
      ],
      "metadata": {
        "colab": {
          "base_uri": "https://localhost:8080/"
        },
        "id": "9sz5dMRYVyKR",
        "outputId": "4774d250-b413-4785-f691-e807b4cddfd1"
      },
      "execution_count": 83,
      "outputs": [
        {
          "output_type": "stream",
          "name": "stdout",
          "text": [
            "+-------+-------+--------------------+-------------------+\n",
            "|post_id|user_id|             content|         created_at|\n",
            "+-------+-------+--------------------+-------------------+\n",
            "|      1|      1|Adoro programar e...|2024-02-01 10:00:00|\n",
            "+-------+-------+--------------------+-------------------+\n",
            "\n"
          ]
        }
      ]
    },
    {
      "cell_type": "code",
      "source": [
        "# Encontrar o post mais recente\n",
        "spark.sql(\"\"\"\n",
        "SELECT post_id, user_id, content, created_at\n",
        "FROM Posts\n",
        "ORDER BY created_at DESC\n",
        "LIMIT 1\n",
        "\"\"\").show()\n"
      ],
      "metadata": {
        "colab": {
          "base_uri": "https://localhost:8080/"
        },
        "id": "R56KjryTV4zJ",
        "outputId": "46235d1c-e3ba-47ce-d2f6-86148b2b6aaa"
      },
      "execution_count": 84,
      "outputs": [
        {
          "output_type": "stream",
          "name": "stdout",
          "text": [
            "+-------+-------+--------------------+-------------------+\n",
            "|post_id|user_id|             content|         created_at|\n",
            "+-------+-------+--------------------+-------------------+\n",
            "|     20|     20|Acho que estou co...|2024-02-20 09:30:00|\n",
            "+-------+-------+--------------------+-------------------+\n",
            "\n"
          ]
        }
      ]
    },
    {
      "cell_type": "code",
      "source": [
        "# Encontrar os 5 posts mais antigos\n",
        "spark.sql(\"\"\"\n",
        "SELECT post_id, user_id, content, created_at\n",
        "FROM Posts\n",
        "ORDER BY created_at ASC\n",
        "LIMIT 5\n",
        "\"\"\").show()\n"
      ],
      "metadata": {
        "colab": {
          "base_uri": "https://localhost:8080/"
        },
        "id": "pUtQVrNwV8XY",
        "outputId": "ca6d65fe-cf4f-4dff-be82-54db376a5431"
      },
      "execution_count": 85,
      "outputs": [
        {
          "output_type": "stream",
          "name": "stdout",
          "text": [
            "+-------+-------+--------------------+-------------------+\n",
            "|post_id|user_id|             content|         created_at|\n",
            "+-------+-------+--------------------+-------------------+\n",
            "|      1|      1|Adoro programar e...|2024-02-01 10:00:00|\n",
            "|      2|      2|Hoje foi um dia i...|2024-02-02 15:30:00|\n",
            "|      3|      3|Alguém tem recome...|2024-02-03 20:45:00|\n",
            "|      4|      4|Explorando novos ...|2024-02-04 13:10:00|\n",
            "|      5|      5|Quais são seus po...|2024-02-05 09:30:00|\n",
            "+-------+-------+--------------------+-------------------+\n",
            "\n"
          ]
        }
      ]
    },
    {
      "cell_type": "code",
      "source": [
        "# Encontrar os 5 posts mais antigos\n",
        "spark.sql(\"\"\"\n",
        "SELECT post_id, user_id, content, created_at\n",
        "FROM Posts\n",
        "ORDER BY created_at ASC\n",
        "LIMIT 5\n",
        "\"\"\").show()\n"
      ],
      "metadata": {
        "colab": {
          "base_uri": "https://localhost:8080/"
        },
        "id": "gEsfFOpqWFGX",
        "outputId": "4cb4edc3-0d3e-400b-8033-cf26b04e3135"
      },
      "execution_count": 86,
      "outputs": [
        {
          "output_type": "stream",
          "name": "stdout",
          "text": [
            "+-------+-------+--------------------+-------------------+\n",
            "|post_id|user_id|             content|         created_at|\n",
            "+-------+-------+--------------------+-------------------+\n",
            "|      1|      1|Adoro programar e...|2024-02-01 10:00:00|\n",
            "|      2|      2|Hoje foi um dia i...|2024-02-02 15:30:00|\n",
            "|      3|      3|Alguém tem recome...|2024-02-03 20:45:00|\n",
            "|      4|      4|Explorando novos ...|2024-02-04 13:10:00|\n",
            "|      5|      5|Quais são seus po...|2024-02-05 09:30:00|\n",
            "+-------+-------+--------------------+-------------------+\n",
            "\n"
          ]
        }
      ]
    }
  ]
}
